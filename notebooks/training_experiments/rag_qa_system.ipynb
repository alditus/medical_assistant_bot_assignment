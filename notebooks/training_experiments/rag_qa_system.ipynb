{
 "cells": [
  {
   "cell_type": "markdown",
   "id": "46e2d69f-0f19-4a4a-82f2-5e767f07456e",
   "metadata": {},
   "source": [
    "### Configure a RAG system to be used to answer the question from a given context"
   ]
  },
  {
   "cell_type": "code",
   "execution_count": 77,
   "id": "bb9a845f-4805-4148-9f11-e60819d0bedf",
   "metadata": {},
   "outputs": [],
   "source": [
    "from langchain.text_splitter import RecursiveCharacterTextSplitter\n",
    "from langchain.document_loaders import TextLoader\n",
    "from langchain.embeddings import HuggingFaceBgeEmbeddings\n",
    "from langchain.vectorstores import FAISS\n",
    "from langchain_aws import BedrockLLM"
   ]
  },
  {
   "cell_type": "code",
   "execution_count": 66,
   "id": "3cb9ee06-8945-40df-83c7-cad59582a8cd",
   "metadata": {},
   "outputs": [],
   "source": [
    "import glob\n",
    "import os\n",
    "import pandas as pd"
   ]
  },
  {
   "cell_type": "code",
   "execution_count": 68,
   "id": "97c44cff-00b0-4e2f-abfc-e508f10dc0ad",
   "metadata": {},
   "outputs": [],
   "source": [
    "import sys"
   ]
  },
  {
   "cell_type": "code",
   "execution_count": 69,
   "id": "9be94804-e199-4b86-a9b1-16ac97dd7e92",
   "metadata": {},
   "outputs": [],
   "source": [
    "sys.path.append(os.path.abspath('../../'))"
   ]
  },
  {
   "cell_type": "code",
   "execution_count": 67,
   "id": "930efe25-25fc-441f-af41-918c462adffa",
   "metadata": {},
   "outputs": [],
   "source": [
    "abs_path = os.path.abspath('../../')\n",
    "path_to_data = 'data/processed/documents'\n",
    "filenames = glob.glob(os.path.join(abs_path, path_to_data)+'*.txt')"
   ]
  },
  {
   "cell_type": "markdown",
   "id": "9c9f0a37-1ba6-4215-b735-a06516826ed0",
   "metadata": {},
   "source": [
    "### Configuring Bedrock to be used here"
   ]
  },
  {
   "cell_type": "code",
   "execution_count": 70,
   "id": "dee30a1e-e298-4e48-87ae-54c5a64f1708",
   "metadata": {},
   "outputs": [],
   "source": [
    "from src.utils import bedrock"
   ]
  },
  {
   "cell_type": "code",
   "execution_count": 71,
   "id": "9f617a9a-1331-4c71-b1a8-672de3d1ef8b",
   "metadata": {},
   "outputs": [
    {
     "name": "stdout",
     "output_type": "stream",
     "text": [
      "Create new client\n",
      "  Using region: us-east-1\n",
      "boto3 Bedrock client successfully created!\n",
      "bedrock(https://bedrock.us-east-1.amazonaws.com)\n",
      "Create new client\n",
      "  Using region: us-east-1\n",
      "boto3 Bedrock client successfully created!\n",
      "bedrock-runtime(https://bedrock-runtime.us-east-1.amazonaws.com)\n"
     ]
    }
   ],
   "source": [
    "os.environ[\"AWS_DEFAULT_REGION\"] = \"us-east-1\"\n",
    "# os.environ[\"AWS_PROFILE\"] = \"\"\n",
    "# os.environ[\"BEDROCK_ASSUME_ROLE\"] = \"\"  # E.g. \"arn:aws:...\"\n",
    "\n",
    "boto3_bedrock = bedrock.get_bedrock_client(\n",
    "    assumed_role=os.environ.get(\"BEDROCK_ASSUME_ROLE\", None),\n",
    "    region=os.environ.get(\"AWS_DEFAULT_REGION\", None),\n",
    "    runtime=False,\n",
    ")\n",
    "\n",
    "bedrock_runtime = bedrock.get_bedrock_client(\n",
    "    assumed_role=os.environ.get(\"BEDROCK_ASSUME_ROLE\", None),\n",
    "    region=os.environ.get(\"AWS_DEFAULT_REGION\", None)\n",
    ")"
   ]
  },
  {
   "cell_type": "markdown",
   "id": "f11efd12-457f-4c3f-88f7-078f13595393",
   "metadata": {},
   "source": [
    "### Load all the documents from disk to create our vector store"
   ]
  },
  {
   "cell_type": "code",
   "execution_count": 139,
   "id": "ddfa11af-3721-443a-9b4a-ac8531229be6",
   "metadata": {},
   "outputs": [],
   "source": [
    "filenames = glob.glob(os.path.join(abs_path, path_to_data,'**/*.txt'))"
   ]
  },
  {
   "cell_type": "code",
   "execution_count": 163,
   "id": "6c66bb8b-94fc-44f0-9dde-2c9d3ab22f4f",
   "metadata": {},
   "outputs": [],
   "source": [
    "# load all documents from disk\n",
    "documents = load_documents(filenames, '')\n",
    "# split them\n",
    "documents = split_documents(documents, chunk_size=256 , overlap=50)\n",
    "# get the vector store \n",
    "embeddings = get_hf_embeddings_model()\n",
    "# build our vector store\n",
    "vector_store = get_vector_store(splitted_documents, embeddings)\n",
    "# get the llm that we are going to use\n",
    "bedrock_model_id = \"anthropic.claude-v2\"\n",
    "model_parameter = {\n",
    "    \"temperature\": 0.0, \n",
    "    \"top_p\": .5, \n",
    "    \"top_k\": 200, \n",
    "    \"max_tokens_to_sample\": 400, \n",
    "    \"stop_sequences\": [\"\\n\\n Human: bye\"]\n",
    "}\n",
    "\n",
    "llm = BedrockLLM(\n",
    "    model_id=bedrock_model_id,\n",
    "    model_kwargs=model_parameter, \n",
    "    client=bedrock_runtime\n",
    ")"
   ]
  },
  {
   "cell_type": "markdown",
   "id": "589f09c2-1a83-47e6-b7ed-4417447f2920",
   "metadata": {},
   "source": [
    "### Orchestrate all elements to create are QA chain"
   ]
  },
  {
   "cell_type": "code",
   "execution_count": 141,
   "id": "6dc66f9b-5dd4-4a9e-ac4a-56a9adf87e37",
   "metadata": {},
   "outputs": [],
   "source": [
    "from langchain.prompts import PromptTemplate\n",
    "from langchain.chains import create_retrieval_chain\n",
    "from langchain.chains.combine_documents import create_stuff_documents_chain"
   ]
  },
  {
   "cell_type": "code",
   "execution_count": 164,
   "id": "fd0869af-2c43-44d7-97d8-ae562e20f8fd",
   "metadata": {},
   "outputs": [],
   "source": [
    "prompt_template = \"\"\"\n",
    "<|system|>\n",
    "Using the information contained in the context,\n",
    "give a comprehensive answer to the question.\n",
    "Respond only to the question asked, response should be concise and relevant to the question.\n",
    "Provide the number of the source document when relevant.\n",
    "If the answer cannot be deduced from the context, do not give an answer.</s>\n",
    "<|user|>\n",
    "Context:\n",
    "{context}\n",
    "---\n",
    "Now here is the question you need to answer.\n",
    "\n",
    "Question: {input}\n",
    "</s>\n",
    "<|assistant|>\n",
    "\"\"\""
   ]
  },
  {
   "cell_type": "code",
   "execution_count": 165,
   "id": "2c6bfa46-fa7d-40b3-95cd-53222de0e50d",
   "metadata": {},
   "outputs": [],
   "source": [
    "PROMPT = PromptTemplate(\n",
    "    template=prompt_template,\n",
    "    input_variables=[\"context\", \"input\"]\n",
    ")"
   ]
  },
  {
   "cell_type": "code",
   "execution_count": 166,
   "id": "b5f3122c-47c4-42c2-b5a3-d5e364d8176c",
   "metadata": {},
   "outputs": [],
   "source": [
    "retriever = vector_store.as_retriever(\n",
    "    search_type = 'mmr', #Maximum Marginal Relevance\n",
    "    search_kwargs = {\"k\":10, \"lambda_mult\":0.2}\n",
    ")\n",
    "question_answer_chain = create_stuff_documents_chain(llm, PROMPT)\n",
    "chain = create_retrieval_chain(retriever, question_answer_chain)"
   ]
  },
  {
   "cell_type": "code",
   "execution_count": 167,
   "id": "d43c8dee-17ef-4cf6-b453-52306fede62d",
   "metadata": {},
   "outputs": [],
   "source": [
    "def get_answer_to_user_question(query, chain):\n",
    "    response = chain.invoke({\"input\": query})\n",
    "    return response['answer']"
   ]
  },
  {
   "cell_type": "code",
   "execution_count": null,
   "id": "7aa0bcd0-d9b9-4aac-8e55-ba7257b456b0",
   "metadata": {},
   "outputs": [],
   "source": []
  },
  {
   "cell_type": "code",
   "execution_count": 168,
   "id": "034bd01c-1180-4583-a6e8-e0532716fea9",
   "metadata": {},
   "outputs": [
    {
     "data": {
      "text/plain": [
       "' Based on the context provided, the frequency of Ochoa syndrome is not explicitly stated. The passage mentions that 18q deletion syndrome occurs in an estimated 1 in 40,000 newborns, and Usher syndrome is inherited in an autosomal recessive manner, but does not provide statistics on how many people are affected by Ochoa syndrome specifically. Since the requested information cannot be deduced from the given context, I cannot provide an answer to the question asked.'"
      ]
     },
     "execution_count": 168,
     "metadata": {},
     "output_type": "execute_result"
    }
   ],
   "source": [
    "query = \"How many people are affected by Ochoa syndrome?\"\n",
    "get_answer_to_user_question(query, chain)"
   ]
  },
  {
   "cell_type": "code",
   "execution_count": 169,
   "id": "f21bddaf-707f-4e1f-a2b7-c86be0672db5",
   "metadata": {},
   "outputs": [
    {
     "data": {
      "text/plain": [
       "' Based on the context, heart disease in women with 17q23.1q23.2 microdeletion syndrome refers to congenital heart defects that can occur as part of the condition. The passage states that heart defects are one of the features associated with 17q23.1q23.2 microdeletion syndrome. However, it does not provide any specific information about what types of heart defects occur or their frequency. The context does not mention heart disease in women in general.'"
      ]
     },
     "execution_count": 169,
     "metadata": {},
     "output_type": "execute_result"
    }
   ],
   "source": [
    "query = \"What is (are) Heart Disease in Women?\"\n",
    "get_answer_to_user_question(query, chain)"
   ]
  },
  {
   "cell_type": "code",
   "execution_count": 170,
   "id": "e21d67dd-3ed6-4c66-a36f-5ec722721d84",
   "metadata": {},
   "outputs": [
    {
     "data": {
      "text/plain": [
       "' Glaucoma is a group of eye diseases that damage the optic nerve, which is important for good vision. This damage is often caused by an abnormally high pressure in the eye. There are different types of glaucoma, but they can all lead to vision loss and blindness if not treated. Some key facts about glaucoma:\\n\\n- It is one of the leading causes of blindness worldwide. \\n\\n- There are often no early symptoms. Vision loss starts with peripheral vision and can occur gradually.\\n\\n- Risk factors include older age, family history, high eye pressure, and certain medical conditions like diabetes.\\n\\n- Treatment focuses on lowering eye pressure through eye drops, pills, laser procedures, or surgery. Early detection and treatment are key to preventing vision loss.\\n\\n- Glaucoma cannot be cured, but early treatment helps slow or prevent further vision loss. Regular eye exams are important, especially for those at higher risk.\\n\\nThe context provided does not contain information specifically about glaucoma. However, I have provided a general overview of this common eye disease based on my knowledge. Let me know if you need any clarification or have additional questions!'"
      ]
     },
     "execution_count": 170,
     "metadata": {},
     "output_type": "execute_result"
    }
   ],
   "source": [
    "query = \"What is Glaucoma?\"\n",
    "get_answer_to_user_question(query, chain)"
   ]
  },
  {
   "cell_type": "code",
   "execution_count": 171,
   "id": "e5943e55-3903-458a-a9b2-84809c59056a",
   "metadata": {},
   "outputs": [
    {
     "data": {
      "text/plain": [
       "' Unfortunately I do not have specific information about veterans and military health. However, based on the context provided, I can suggest looking into resources from the U.S. Department of Veterans Affairs. They have information on health services, benefits, and resources for veterans, service members, and their families. The VA website (www.va.gov) has sections dedicated to health issues, disability claims, caregiving support, and more. The Department of Defense also has health resources for active duty service members and families at www.health.mil. I hope this helps point you in the right direction to find information relevant to veterans and military health.'"
      ]
     },
     "execution_count": 171,
     "metadata": {},
     "output_type": "execute_result"
    }
   ],
   "source": [
    "query = \"Do you have information about Veterans and Military Health?\"\n",
    "get_answer_to_user_question(query, chain)"
   ]
  },
  {
   "cell_type": "code",
   "execution_count": 173,
   "id": "bc44f861-69e4-4c70-a070-02c5f5d99eef",
   "metadata": {},
   "outputs": [
    {
     "data": {
      "text/plain": [
       "' Retinoblastoma is a rare eye cancer that develops in the retina, the light-sensing tissue in the back of the eye. It is caused by mutations in the RB1 gene and usually affects young children. Key features of retinoblastoma include:\\n\\n- It develops in one or both eyes, usually before age 5.\\n\\n- Common signs are a white pupil, crossed eyes, poor vision or red and swollen eyes.\\n\\n- Treatment involves surgery, radiation, laser therapy, freezing (cryotherapy), or chemotherapy. \\n\\n- If caught early, retinoblastoma has a high cure rate, though vision loss can occur. Untreated, it can spread to other parts of the body.\\n\\n- It can be inherited (due to RB1 gene mutation) or non-inherited (somatic mutation). The inherited form tends to be bilateral and diagnosed earlier.\\n\\nSo in summary, retinoblastoma is a rare pediatric eye cancer arising from retinal cells, often due to RB1 gene mutations. Early detection and treatment are key for preserving vision and achieving a cure.'"
      ]
     },
     "execution_count": 173,
     "metadata": {},
     "output_type": "execute_result"
    }
   ],
   "source": [
    "query = \"What is Retinoblastoma?\"\n",
    "get_answer_to_user_question(query, chain)"
   ]
  },
  {
   "cell_type": "code",
   "execution_count": null,
   "id": "37ef37ce-9a8e-4b56-856f-48f205eaa41a",
   "metadata": {},
   "outputs": [],
   "source": []
  },
  {
   "cell_type": "markdown",
   "id": "53e5638a-9e4d-4bd7-ac6b-21cf043c385a",
   "metadata": {},
   "source": [
    "### UTILS"
   ]
  },
  {
   "cell_type": "code",
   "execution_count": null,
   "id": "603b44ac-40b0-4022-8de2-9ded8706876a",
   "metadata": {},
   "outputs": [],
   "source": [
    "def load_documents(filenames, data_root):\n",
    "    \"\"\"\n",
    "    Read all documents that are passed in filenames\n",
    "    \"\"\"\n",
    "    documents = []\n",
    "    for file in filenames:\n",
    "        loader = TextLoader(data_root+file)\n",
    "        document = loader.load()\n",
    "        for d in document:\n",
    "            d.metadata['source'] = '/'.join(file.split('/')[-2:])\n",
    "        documents += document\n",
    "    return documents\n",
    "\n",
    "\n",
    "def split_documents(documents, chunk_size=512, overlap=100):\n",
    "    \"\"\"\n",
    "    Split the documents into chunks for further processing\n",
    "    \"\"\"\n",
    "    text_splitter = RecursiveCharacterTextSplitter(chunk_size=chunk_size, chunk_overlap=overlap)\n",
    "    documents = text_splitter.split_documents(documents)\n",
    "    return documents\n",
    "\n",
    "\n",
    "def get_hf_embeddings_model():\n",
    "    \"\"\"\n",
    "    Get the embedding model to create our vector_store.\n",
    "    The embedding model to use is fine tuned on a medical dataset.\n",
    "    \n",
    "    @software{balachandran2024medembed,\n",
    "    author = {Balachandran, Abhinand},\n",
    "    title = {MedEmbed: Medical-Focused Embedding Models},\n",
    "    year = {2024},\n",
    "    url = {https://github.com/abhinand5/MedEmbed}\n",
    "    }\n",
    "    \"\"\"\n",
    "    model_name =\"abhinand/MedEmbed-small-v0.1\"\n",
    "    model_kwargs = {'device': 'cuda'}\n",
    "    encode_kwargs = {'normalize_embeddings': True}\n",
    "    model = HuggingFaceBgeEmbeddings(\n",
    "        model_name=model_name,\n",
    "        model_kwargs=model_kwargs,\n",
    "        encode_kwargs=encode_kwargs,\n",
    "    )\n",
    "    return model"
   ]
  },
  {
   "cell_type": "markdown",
   "id": "0c3333b8-1714-47fd-a251-a84b21215a24",
   "metadata": {},
   "source": []
  },
  {
   "cell_type": "code",
   "execution_count": null,
   "id": "a1693a81-856a-473c-80f7-735666de7aff",
   "metadata": {},
   "outputs": [],
   "source": []
  }
 ],
 "metadata": {
  "kernelspec": {
   "display_name": "Python 3 (ipykernel)",
   "language": "python",
   "name": "python3"
  },
  "language_info": {
   "codemirror_mode": {
    "name": "ipython",
    "version": 3
   },
   "file_extension": ".py",
   "mimetype": "text/x-python",
   "name": "python",
   "nbconvert_exporter": "python",
   "pygments_lexer": "ipython3",
   "version": "3.10.15"
  }
 },
 "nbformat": 4,
 "nbformat_minor": 5
}
