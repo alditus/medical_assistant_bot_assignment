{
 "cells": [
  {
   "cell_type": "markdown",
   "id": "5d76c684-554b-4a61-af3d-6930bcfd073b",
   "metadata": {},
   "source": [
    "## Preparing data for training\n",
    "- Augmenting with context-answer set up\n",
    "- Splitting in Train, Valid and Test based on topics so there are not duplicated topics accross sets\n"
   ]
  },
  {
   "cell_type": "markdown",
   "id": "f92b433e-ef28-456b-8746-949005c15ef9",
   "metadata": {},
   "source": [
    "1. **Extractive question-answering**.  \n",
    "   Extracts the answer to a question from a given context. Meaning, the answer to the question is in the context and we just extract it from it as it is.\n",
    "   For this case, we need the question per se, the answer, and the context within the answer exists. We do not have the context, but we can process our dataset in order to create this context.\n",
    "   I will assume that the answer provided to the question, is the correct one. \n",
    "3. **Generative question-answering with RAG**.  \n",
    "   Uses a language generation model (e.g: pre-trained LLM or Foundational Model) to create an answer to a question given a context. The context is retrieved from a knowledge base and passed to the GenAI model to generate the answer."
   ]
  },
  {
   "cell_type": "code",
   "execution_count": 77,
   "id": "9363f316-6a29-4fee-abfa-ddf3b13b11b1",
   "metadata": {},
   "outputs": [],
   "source": [
    "import pandas as pd\n",
    "import numpy as np\n",
    "import os"
   ]
  },
  {
   "cell_type": "code",
   "execution_count": 4,
   "id": "b3f4a4d9-400a-4949-bbf6-7e46e21c69eb",
   "metadata": {},
   "outputs": [],
   "source": [
    "abs_path = os.path.abspath('../../')\n",
    "path_to_data = 'data/processed/'\n",
    "filename = 'question_answer_with_labels.csv'"
   ]
  },
  {
   "cell_type": "code",
   "execution_count": 5,
   "id": "4877ba4d-05fd-4dae-ad58-b7cc03922d80",
   "metadata": {},
   "outputs": [],
   "source": [
    "dataset = pd.read_csv(os.path.join(abs_path, path_to_data, filename))"
   ]
  },
  {
   "cell_type": "code",
   "execution_count": 6,
   "id": "26ebbf36-71ce-4b37-b330-01b9dada1d3a",
   "metadata": {},
   "outputs": [
    {
     "data": {
      "text/html": [
       "<div>\n",
       "<style scoped>\n",
       "    .dataframe tbody tr th:only-of-type {\n",
       "        vertical-align: middle;\n",
       "    }\n",
       "\n",
       "    .dataframe tbody tr th {\n",
       "        vertical-align: top;\n",
       "    }\n",
       "\n",
       "    .dataframe thead th {\n",
       "        text-align: right;\n",
       "    }\n",
       "</style>\n",
       "<table border=\"1\" class=\"dataframe\">\n",
       "  <thead>\n",
       "    <tr style=\"text-align: right;\">\n",
       "      <th></th>\n",
       "      <th>question</th>\n",
       "      <th>answer</th>\n",
       "      <th>voted_label</th>\n",
       "    </tr>\n",
       "  </thead>\n",
       "  <tbody>\n",
       "    <tr>\n",
       "      <th>0</th>\n",
       "      <td>What is (are) Glaucoma?</td>\n",
       "      <td>Glaucoma is a group of diseases that can damag...</td>\n",
       "      <td>glaucoma_prevent</td>\n",
       "    </tr>\n",
       "    <tr>\n",
       "      <th>1</th>\n",
       "      <td>Who is at risk for Glaucoma??</td>\n",
       "      <td>Anyone can develop glaucoma. Some people are a...</td>\n",
       "      <td>glaucoma_prevent</td>\n",
       "    </tr>\n",
       "    <tr>\n",
       "      <th>2</th>\n",
       "      <td>How to prevent Glaucoma?</td>\n",
       "      <td>At this time, we do not know how to prevent gl...</td>\n",
       "      <td>glaucoma_prevent</td>\n",
       "    </tr>\n",
       "    <tr>\n",
       "      <th>3</th>\n",
       "      <td>What are the symptoms of Glaucoma?</td>\n",
       "      <td>At first, open-angle glaucoma has no symptoms....</td>\n",
       "      <td>glaucoma_prevent</td>\n",
       "    </tr>\n",
       "    <tr>\n",
       "      <th>4</th>\n",
       "      <td>What are the treatments for Glaucoma?</td>\n",
       "      <td>Yes. Immediate treatment for early stage, open...</td>\n",
       "      <td>glaucoma_prevent</td>\n",
       "    </tr>\n",
       "    <tr>\n",
       "      <th>...</th>\n",
       "      <td>...</td>\n",
       "      <td>...</td>\n",
       "      <td>...</td>\n",
       "    </tr>\n",
       "    <tr>\n",
       "      <th>13822</th>\n",
       "      <td>What is (are) Diabetic Neuropathies: The Nerve...</td>\n",
       "      <td>Diabetic neuropathies are a family of nerve di...</td>\n",
       "      <td>nerve_diabetic</td>\n",
       "    </tr>\n",
       "    <tr>\n",
       "      <th>13823</th>\n",
       "      <td>What causes Diabetic Neuropathies: The Nerve D...</td>\n",
       "      <td>The causes are probably different for differen...</td>\n",
       "      <td>nerve_diabetic</td>\n",
       "    </tr>\n",
       "    <tr>\n",
       "      <th>13824</th>\n",
       "      <td>What are the symptoms of Diabetic Neuropathies...</td>\n",
       "      <td>Symptoms depend on the type of neuropathy and ...</td>\n",
       "      <td>nerve_diabetic</td>\n",
       "    </tr>\n",
       "    <tr>\n",
       "      <th>13825</th>\n",
       "      <td>How to prevent Diabetic Neuropathies: The Nerv...</td>\n",
       "      <td>The best way to prevent neuropathy is to keep ...</td>\n",
       "      <td>nerve_diabetic</td>\n",
       "    </tr>\n",
       "    <tr>\n",
       "      <th>13826</th>\n",
       "      <td>How to diagnose Diabetic Neuropathies: The Ner...</td>\n",
       "      <td>Doctors diagnose neuropathy on the basis of sy...</td>\n",
       "      <td>nerve_diabetic</td>\n",
       "    </tr>\n",
       "  </tbody>\n",
       "</table>\n",
       "<p>13827 rows × 3 columns</p>\n",
       "</div>"
      ],
      "text/plain": [
       "                                                question  \\\n",
       "0                                What is (are) Glaucoma?   \n",
       "1                          Who is at risk for Glaucoma??   \n",
       "2                               How to prevent Glaucoma?   \n",
       "3                     What are the symptoms of Glaucoma?   \n",
       "4                  What are the treatments for Glaucoma?   \n",
       "...                                                  ...   \n",
       "13822  What is (are) Diabetic Neuropathies: The Nerve...   \n",
       "13823  What causes Diabetic Neuropathies: The Nerve D...   \n",
       "13824  What are the symptoms of Diabetic Neuropathies...   \n",
       "13825  How to prevent Diabetic Neuropathies: The Nerv...   \n",
       "13826  How to diagnose Diabetic Neuropathies: The Ner...   \n",
       "\n",
       "                                                  answer       voted_label  \n",
       "0      Glaucoma is a group of diseases that can damag...  glaucoma_prevent  \n",
       "1      Anyone can develop glaucoma. Some people are a...  glaucoma_prevent  \n",
       "2      At this time, we do not know how to prevent gl...  glaucoma_prevent  \n",
       "3      At first, open-angle glaucoma has no symptoms....  glaucoma_prevent  \n",
       "4      Yes. Immediate treatment for early stage, open...  glaucoma_prevent  \n",
       "...                                                  ...               ...  \n",
       "13822  Diabetic neuropathies are a family of nerve di...    nerve_diabetic  \n",
       "13823  The causes are probably different for differen...    nerve_diabetic  \n",
       "13824  Symptoms depend on the type of neuropathy and ...    nerve_diabetic  \n",
       "13825  The best way to prevent neuropathy is to keep ...    nerve_diabetic  \n",
       "13826  Doctors diagnose neuropathy on the basis of sy...    nerve_diabetic  \n",
       "\n",
       "[13827 rows x 3 columns]"
      ]
     },
     "execution_count": 6,
     "metadata": {},
     "output_type": "execute_result"
    }
   ],
   "source": [
    "dataset"
   ]
  },
  {
   "cell_type": "code",
   "execution_count": 7,
   "id": "85df091d-5938-4351-b2ae-58339efd091a",
   "metadata": {},
   "outputs": [
    {
     "data": {
      "text/plain": [
       "\"Glaucoma is a group of diseases that can damage the eye's optic nerve and result in vision loss and blindness. The most common form of the disease is open-angle glaucoma. With early treatment, you can often protect your eyes against serious vision loss. (Watch the video to learn more about glaucoma. To enlarge the video, click the brackets in the lower right-hand corner. To reduce the video, press the Escape (Esc) button on your keyboard.)  See this graphic for a quick overview of glaucoma, including how many people it affects, whos at risk, what to do if you have it, and how to learn more.  See a glossary of glaucoma terms.\""
      ]
     },
     "execution_count": 7,
     "metadata": {},
     "output_type": "execute_result"
    }
   ],
   "source": [
    "dataset['answer'].values[0]"
   ]
  },
  {
   "cell_type": "code",
   "execution_count": 20,
   "id": "7acd3781-90f5-4aec-83fb-4105e015eff4",
   "metadata": {},
   "outputs": [],
   "source": [
    "from dotenv import load_dotenv\n",
    "from pathlib import Path\n",
    "from openai import OpenAI\n",
    "import os"
   ]
  },
  {
   "cell_type": "code",
   "execution_count": 21,
   "id": "96dcb4f4-53d4-4f76-8dc0-56a0e39d48e8",
   "metadata": {},
   "outputs": [],
   "source": [
    "dotenv_path = Path(os.path.join(abs_path, '.env'))"
   ]
  },
  {
   "cell_type": "code",
   "execution_count": 22,
   "id": "73c2e866-4b36-499b-9d37-d65034cc95d5",
   "metadata": {},
   "outputs": [
    {
     "data": {
      "text/plain": [
       "True"
      ]
     },
     "execution_count": 22,
     "metadata": {},
     "output_type": "execute_result"
    }
   ],
   "source": [
    "load_dotenv(dotenv_path=dotenv_path)"
   ]
  },
  {
   "cell_type": "code",
   "execution_count": 25,
   "id": "b0493ffa-2e64-4a16-a47b-2fe3f3d00500",
   "metadata": {},
   "outputs": [],
   "source": [
    "client = OpenAI(api_key=os.getenv('OPENAI_API_KEY'))"
   ]
  },
  {
   "cell_type": "code",
   "execution_count": 26,
   "id": "d78a1fa0-ca87-47f5-b5aa-19d192da0e7a",
   "metadata": {},
   "outputs": [],
   "source": [
    "# decided to use openai here just because it is faster this way"
   ]
  },
  {
   "cell_type": "code",
   "execution_count": 36,
   "id": "253e5347-6e22-43d7-a1a1-a92a0fe2593e",
   "metadata": {},
   "outputs": [],
   "source": [
    "question = dataset['question'].values[150]\n",
    "context = dataset['answer'].values[150]"
   ]
  },
  {
   "cell_type": "code",
   "execution_count": null,
   "id": "1d8451b5-42c3-4ab7-9a29-ae852260842d",
   "metadata": {
    "scrolled": true
   },
   "outputs": [],
   "source": [
    "## Commenting this since it was used to extract answer from the context because in the original dataset there was not specific information for this.\n",
    "\"\"\"\n",
    "answers = []\n",
    "\n",
    "counter = 0\n",
    "for question,context in zip(dataset['question'].values,dataset['answer'].values):\n",
    "    print(counter)\n",
    "    completion = client.chat.completions.create(\n",
    "        model=\"gpt-4o-mini\",\n",
    "        messages=[\n",
    "            {\"role\": \"system\", \"content\": \"You are given a question and a context. Extract the portion of the context where you think the answer is. If the answer is not in the context, say: no-answer, do not generate an answer but extract the sentence or paragraph where the answer is in the context\"},\n",
    "            {\n",
    "                \"role\": \"user\",\n",
    "                \"content\": f\"This is the question: {question}. This is the context: {context}\"\n",
    "            }\n",
    "        ]\n",
    "    )\n",
    "    counter +=1\n",
    "    answers.append(completion.choices[0].message.content)\n",
    "\"\"\""
   ]
  },
  {
   "cell_type": "code",
   "execution_count": 43,
   "id": "0ae36544-7347-4255-8bbd-02608f657651",
   "metadata": {},
   "outputs": [],
   "source": [
    "temp_answer = dataset['answer'].values"
   ]
  },
  {
   "cell_type": "code",
   "execution_count": 47,
   "id": "e358f732-0cf4-4667-a5a3-b0007edf9190",
   "metadata": {},
   "outputs": [],
   "source": [
    "dataset['answer'] = answers\n",
    "dataset['context'] = temp_answer"
   ]
  },
  {
   "cell_type": "code",
   "execution_count": 49,
   "id": "819e7b05-f390-4e68-a4d9-25f11b97cf20",
   "metadata": {},
   "outputs": [],
   "source": [
    "dataset = dataset[['question', 'context', 'answer','voted_label']]"
   ]
  },
  {
   "cell_type": "code",
   "execution_count": 52,
   "id": "fc33ad57-5980-4a3a-b185-896a4db8e3f0",
   "metadata": {},
   "outputs": [],
   "source": [
    "dataset['voted_label'] = pd.read_csv(os.path.join(abs_path, 'data/processed', 'processed_dataset.csv'))['ac_labels']"
   ]
  },
  {
   "cell_type": "code",
   "execution_count": 53,
   "id": "6c4c3dee-d67f-448c-a496-efef56f55fb4",
   "metadata": {},
   "outputs": [
    {
     "data": {
      "text/html": [
       "<div>\n",
       "<style scoped>\n",
       "    .dataframe tbody tr th:only-of-type {\n",
       "        vertical-align: middle;\n",
       "    }\n",
       "\n",
       "    .dataframe tbody tr th {\n",
       "        vertical-align: top;\n",
       "    }\n",
       "\n",
       "    .dataframe thead th {\n",
       "        text-align: right;\n",
       "    }\n",
       "</style>\n",
       "<table border=\"1\" class=\"dataframe\">\n",
       "  <thead>\n",
       "    <tr style=\"text-align: right;\">\n",
       "      <th></th>\n",
       "      <th>question</th>\n",
       "      <th>context</th>\n",
       "      <th>answer</th>\n",
       "      <th>voted_label</th>\n",
       "    </tr>\n",
       "  </thead>\n",
       "  <tbody>\n",
       "    <tr>\n",
       "      <th>0</th>\n",
       "      <td>What is (are) Glaucoma?</td>\n",
       "      <td>Glaucoma is a group of diseases that can damag...</td>\n",
       "      <td>Glaucoma is a group of diseases that can damag...</td>\n",
       "      <td>glaucoma_earlyonset</td>\n",
       "    </tr>\n",
       "    <tr>\n",
       "      <th>1</th>\n",
       "      <td>Who is at risk for Glaucoma??</td>\n",
       "      <td>Anyone can develop glaucoma. Some people are a...</td>\n",
       "      <td>They include - African-Americans over age 40  ...</td>\n",
       "      <td>glaucoma_earlyonset</td>\n",
       "    </tr>\n",
       "    <tr>\n",
       "      <th>2</th>\n",
       "      <td>How to prevent Glaucoma?</td>\n",
       "      <td>At this time, we do not know how to prevent gl...</td>\n",
       "      <td>At this time, we do not know how to prevent gl...</td>\n",
       "      <td>glaucoma_earlyonset</td>\n",
       "    </tr>\n",
       "    <tr>\n",
       "      <th>3</th>\n",
       "      <td>What are the symptoms of Glaucoma?</td>\n",
       "      <td>At first, open-angle glaucoma has no symptoms....</td>\n",
       "      <td>At first, open-angle glaucoma has no symptoms....</td>\n",
       "      <td>glaucoma_earlyonset</td>\n",
       "    </tr>\n",
       "    <tr>\n",
       "      <th>4</th>\n",
       "      <td>What are the treatments for Glaucoma?</td>\n",
       "      <td>Yes. Immediate treatment for early stage, open...</td>\n",
       "      <td>Glaucoma treatments include medicines, laser s...</td>\n",
       "      <td>glaucoma_earlyonset</td>\n",
       "    </tr>\n",
       "  </tbody>\n",
       "</table>\n",
       "</div>"
      ],
      "text/plain": [
       "                                question  \\\n",
       "0                What is (are) Glaucoma?   \n",
       "1          Who is at risk for Glaucoma??   \n",
       "2               How to prevent Glaucoma?   \n",
       "3     What are the symptoms of Glaucoma?   \n",
       "4  What are the treatments for Glaucoma?   \n",
       "\n",
       "                                             context  \\\n",
       "0  Glaucoma is a group of diseases that can damag...   \n",
       "1  Anyone can develop glaucoma. Some people are a...   \n",
       "2  At this time, we do not know how to prevent gl...   \n",
       "3  At first, open-angle glaucoma has no symptoms....   \n",
       "4  Yes. Immediate treatment for early stage, open...   \n",
       "\n",
       "                                              answer          voted_label  \n",
       "0  Glaucoma is a group of diseases that can damag...  glaucoma_earlyonset  \n",
       "1  They include - African-Americans over age 40  ...  glaucoma_earlyonset  \n",
       "2  At this time, we do not know how to prevent gl...  glaucoma_earlyonset  \n",
       "3  At first, open-angle glaucoma has no symptoms....  glaucoma_earlyonset  \n",
       "4  Glaucoma treatments include medicines, laser s...  glaucoma_earlyonset  "
      ]
     },
     "execution_count": 53,
     "metadata": {},
     "output_type": "execute_result"
    }
   ],
   "source": [
    "dataset.head()"
   ]
  },
  {
   "cell_type": "code",
   "execution_count": 54,
   "id": "3c6520f0-7e3c-439c-8b4b-a40d2b87bebf",
   "metadata": {},
   "outputs": [],
   "source": [
    "# dataset.to_csv(os.path.join(abs_path, 'data/processed/question_answer_with_context_and_labels.csv'), index= False)"
   ]
  },
  {
   "cell_type": "code",
   "execution_count": 63,
   "id": "8df3a4bd-54c3-4bb2-b980-fb92d29222f3",
   "metadata": {},
   "outputs": [],
   "source": [
    "def find_start_end_indexes_in_context(answers, context):\n",
    "    start_end_indexes = []\n",
    "    for a,c in zip(answers,context):\n",
    "        if a in c:\n",
    "            start_index = c.index(a)\n",
    "            end_index = len(a)\n",
    "            start_end_indexes.append((start_index, end_index))\n",
    "        else:\n",
    "            start_end_indexes.append((0,0))\n",
    "    return start_end_indexes"
   ]
  },
  {
   "cell_type": "code",
   "execution_count": 69,
   "id": "e3c09694-5a7c-419c-8bbe-e888c8c75c13",
   "metadata": {},
   "outputs": [],
   "source": [
    "start_end_indexes = find_start_end_indexes_in_context(dataset['answer'].tolist(), dataset['context'].tolist())"
   ]
  },
  {
   "cell_type": "code",
   "execution_count": 70,
   "id": "09f36c57-f18e-47f8-84e0-014b13f42398",
   "metadata": {},
   "outputs": [
    {
     "data": {
      "text/plain": [
       "(0, 170)"
      ]
     },
     "execution_count": 70,
     "metadata": {},
     "output_type": "execute_result"
    }
   ],
   "source": [
    "start_end_indexes[0]"
   ]
  },
  {
   "cell_type": "code",
   "execution_count": 73,
   "id": "a00c0969-9f36-4a65-931f-9bf5ce0804a5",
   "metadata": {},
   "outputs": [],
   "source": [
    "dataset['start_end_indexes'] = start_end_indexes"
   ]
  },
  {
   "cell_type": "code",
   "execution_count": 74,
   "id": "d22ab023-b581-4f4f-ad4f-ee5b03ef1278",
   "metadata": {},
   "outputs": [
    {
     "data": {
      "text/html": [
       "<div>\n",
       "<style scoped>\n",
       "    .dataframe tbody tr th:only-of-type {\n",
       "        vertical-align: middle;\n",
       "    }\n",
       "\n",
       "    .dataframe tbody tr th {\n",
       "        vertical-align: top;\n",
       "    }\n",
       "\n",
       "    .dataframe thead th {\n",
       "        text-align: right;\n",
       "    }\n",
       "</style>\n",
       "<table border=\"1\" class=\"dataframe\">\n",
       "  <thead>\n",
       "    <tr style=\"text-align: right;\">\n",
       "      <th></th>\n",
       "      <th>question</th>\n",
       "      <th>context</th>\n",
       "      <th>answer</th>\n",
       "      <th>voted_label</th>\n",
       "      <th>start_end_indexes</th>\n",
       "    </tr>\n",
       "  </thead>\n",
       "  <tbody>\n",
       "    <tr>\n",
       "      <th>0</th>\n",
       "      <td>What is (are) Glaucoma?</td>\n",
       "      <td>Glaucoma is a group of diseases that can damag...</td>\n",
       "      <td>Glaucoma is a group of diseases that can damag...</td>\n",
       "      <td>glaucoma_earlyonset</td>\n",
       "      <td>(0, 170)</td>\n",
       "    </tr>\n",
       "    <tr>\n",
       "      <th>1</th>\n",
       "      <td>Who is at risk for Glaucoma??</td>\n",
       "      <td>Anyone can develop glaucoma. Some people are a...</td>\n",
       "      <td>They include - African-Americans over age 40  ...</td>\n",
       "      <td>glaucoma_earlyonset</td>\n",
       "      <td>(73, 143)</td>\n",
       "    </tr>\n",
       "    <tr>\n",
       "      <th>2</th>\n",
       "      <td>How to prevent Glaucoma?</td>\n",
       "      <td>At this time, we do not know how to prevent gl...</td>\n",
       "      <td>At this time, we do not know how to prevent gl...</td>\n",
       "      <td>glaucoma_earlyonset</td>\n",
       "      <td>(0, 366)</td>\n",
       "    </tr>\n",
       "    <tr>\n",
       "      <th>3</th>\n",
       "      <td>What are the symptoms of Glaucoma?</td>\n",
       "      <td>At first, open-angle glaucoma has no symptoms....</td>\n",
       "      <td>At first, open-angle glaucoma has no symptoms....</td>\n",
       "      <td>glaucoma_earlyonset</td>\n",
       "      <td>(0, 290)</td>\n",
       "    </tr>\n",
       "    <tr>\n",
       "      <th>4</th>\n",
       "      <td>What are the treatments for Glaucoma?</td>\n",
       "      <td>Yes. Immediate treatment for early stage, open...</td>\n",
       "      <td>Glaucoma treatments include medicines, laser s...</td>\n",
       "      <td>glaucoma_earlyonset</td>\n",
       "      <td>(146, 109)</td>\n",
       "    </tr>\n",
       "  </tbody>\n",
       "</table>\n",
       "</div>"
      ],
      "text/plain": [
       "                                question  \\\n",
       "0                What is (are) Glaucoma?   \n",
       "1          Who is at risk for Glaucoma??   \n",
       "2               How to prevent Glaucoma?   \n",
       "3     What are the symptoms of Glaucoma?   \n",
       "4  What are the treatments for Glaucoma?   \n",
       "\n",
       "                                             context  \\\n",
       "0  Glaucoma is a group of diseases that can damag...   \n",
       "1  Anyone can develop glaucoma. Some people are a...   \n",
       "2  At this time, we do not know how to prevent gl...   \n",
       "3  At first, open-angle glaucoma has no symptoms....   \n",
       "4  Yes. Immediate treatment for early stage, open...   \n",
       "\n",
       "                                              answer          voted_label  \\\n",
       "0  Glaucoma is a group of diseases that can damag...  glaucoma_earlyonset   \n",
       "1  They include - African-Americans over age 40  ...  glaucoma_earlyonset   \n",
       "2  At this time, we do not know how to prevent gl...  glaucoma_earlyonset   \n",
       "3  At first, open-angle glaucoma has no symptoms....  glaucoma_earlyonset   \n",
       "4  Glaucoma treatments include medicines, laser s...  glaucoma_earlyonset   \n",
       "\n",
       "  start_end_indexes  \n",
       "0          (0, 170)  \n",
       "1         (73, 143)  \n",
       "2          (0, 366)  \n",
       "3          (0, 290)  \n",
       "4        (146, 109)  "
      ]
     },
     "execution_count": 74,
     "metadata": {},
     "output_type": "execute_result"
    }
   ],
   "source": [
    "dataset.head()"
   ]
  },
  {
   "cell_type": "markdown",
   "id": "927b5428-ada2-40d1-96a8-1df53dc00c2d",
   "metadata": {},
   "source": [
    "### SPLIT THE DATASET INTO TRAIN, VALID, and TEST according to the voted_labels (which in our case would be like topics) so when we evaluate, we evaluate on new unseen topics"
   ]
  },
  {
   "cell_type": "code",
   "execution_count": 75,
   "id": "b8d6f40d-cf70-4c42-929e-06e576fc561d",
   "metadata": {},
   "outputs": [],
   "source": [
    "def get_topic_splits(total_topics, size=0.1):\n",
    "    train_topics = np.unique(total_topics)\n",
    "    num_of_topics_for_dev_test = int(len(train_topics)*size)\n",
    "    valid_topics = np.random.choice(train_topics, size=num_of_topics_for_dev_test)\n",
    "    train_topics = [x for x in train_topics if x not in valid_topics]\n",
    "    test_topics = np.random.choice(train_topics, size=num_of_topics_for_dev_test)\n",
    "    train_topics = [x for x in train_topics if x not in test_topics]\n",
    "\n",
    "    return train_topics, valid_topics, test_topics"
   ]
  },
  {
   "cell_type": "code",
   "execution_count": 78,
   "id": "8a3233aa-9229-4a19-b59a-0b15f8e069a6",
   "metadata": {},
   "outputs": [],
   "source": [
    "train_topics, valid_topics, test_topics = get_topic_splits(dataset['voted_label'])"
   ]
  },
  {
   "cell_type": "code",
   "execution_count": 80,
   "id": "37cc68c9-1aff-47dc-9d66-caaf578d7b36",
   "metadata": {},
   "outputs": [],
   "source": [
    "train_dataset = dataset[dataset['voted_label'].map(lambda x: x in train_topics)].copy()\n",
    "valid_dataset = dataset[dataset['voted_label'].map(lambda x: x in valid_topics)].copy()\n",
    "test_dataset = dataset[dataset['voted_label'].map(lambda x: x in test_topics)].copy()"
   ]
  },
  {
   "cell_type": "code",
   "execution_count": 85,
   "id": "171a2331-f05b-4609-ba87-43b0452e2d40",
   "metadata": {},
   "outputs": [
    {
     "name": "stdout",
     "output_type": "stream",
     "text": [
      "Train samples after splitting: 11137\n",
      "Train context with no answers:1468\n"
     ]
    }
   ],
   "source": [
    "print(f\"Train samples after splitting: {train_dataset.shape[0]}\")\n",
    "print(f\"Train context with no answers:{train_dataset[train_dataset['answer']=='no-answer'].shape[0]}\")"
   ]
  },
  {
   "cell_type": "code",
   "execution_count": 86,
   "id": "a133e896-a763-44f1-90d9-7e61dad90918",
   "metadata": {},
   "outputs": [
    {
     "name": "stdout",
     "output_type": "stream",
     "text": [
      "Valid samples after splitting: 1376\n",
      "Valid context with no answers:163\n"
     ]
    }
   ],
   "source": [
    "print(f\"Valid samples after splitting: {valid_dataset.shape[0]}\")\n",
    "print(f\"Valid context with no answers:{valid_dataset[valid_dataset['answer']=='no-answer'].shape[0]}\")"
   ]
  },
  {
   "cell_type": "code",
   "execution_count": 83,
   "id": "e74db200-f13e-4202-8773-db91548349fd",
   "metadata": {},
   "outputs": [
    {
     "data": {
      "text/plain": [
       "(1314, 5)"
      ]
     },
     "execution_count": 83,
     "metadata": {},
     "output_type": "execute_result"
    }
   ],
   "source": [
    "print(f\"Valid samples after splitting: {test_dataset.shape[0]}\")\n",
    "print(f\"Valid context with no answers:{test_dataset[test_dataset['answer']=='no-answer'].shape[0]}\")"
   ]
  },
  {
   "cell_type": "markdown",
   "id": "d1f6ce07-b323-4bbc-8567-945ce1a72270",
   "metadata": {},
   "source": [
    "## Save the csv sets to disk"
   ]
  },
  {
   "cell_type": "code",
   "execution_count": 88,
   "id": "2f24e2e3-7f10-4955-a7a7-95e84f5314b0",
   "metadata": {},
   "outputs": [],
   "source": [
    "train_dataset.to_csv(os.path.join(abs_path, 'data/processed', 'train.csv'), index=False)\n",
    "valid_dataset.to_csv(os.path.join(abs_path, 'data/processed', 'valid.csv'), index=False)\n",
    "test_dataset.to_csv(os.path.join(abs_path, 'data/processed', 'test.csv'), index=False)"
   ]
  },
  {
   "cell_type": "markdown",
   "id": "aa54f396-f564-4a32-ac7c-66611cc198b0",
   "metadata": {},
   "source": [
    "### Now, since we are going to experiment with RAG as well, let's create txt documents that are going to be used to retrieve the context from"
   ]
  },
  {
   "cell_type": "code",
   "execution_count": 89,
   "id": "6ce2411c-be17-4320-8af4-11b1926ee1d2",
   "metadata": {},
   "outputs": [],
   "source": [
    "def write_set_to_txt_documents(context_set, set_name):\n",
    "    for topic in np.unique(context_set['voted_label'].values):\n",
    "        filename = os.path.join(abs_path,'data/processed/documents',set_name,f\"{topic}.txt\")\n",
    "        content = '\\n'.join(context_set[context_set['voted_label']==topic]['context'].values)\n",
    "        with open(filename, mode=\"wt\") as f:\n",
    "            f.write(content)"
   ]
  },
  {
   "cell_type": "code",
   "execution_count": 90,
   "id": "fa9e26e5-821c-4adb-a4f1-1dc90d5f0d52",
   "metadata": {},
   "outputs": [],
   "source": [
    "write_set_to_txt_documents(train_dataset, 'train')"
   ]
  },
  {
   "cell_type": "code",
   "execution_count": 91,
   "id": "67c1a551-0a23-4e69-b65b-418b95ef42a3",
   "metadata": {},
   "outputs": [],
   "source": [
    "write_set_to_txt_documents(valid_dataset, 'valid')"
   ]
  },
  {
   "cell_type": "code",
   "execution_count": 92,
   "id": "c1839fcb-2807-4395-a490-8fe3c5dba4f6",
   "metadata": {},
   "outputs": [],
   "source": [
    "write_set_to_txt_documents(test_dataset, 'test')"
   ]
  },
  {
   "cell_type": "code",
   "execution_count": null,
   "id": "a1ec1ff8-929d-45f9-ade4-fe4b04f8cda4",
   "metadata": {},
   "outputs": [],
   "source": []
  }
 ],
 "metadata": {
  "kernelspec": {
   "display_name": "Python 3 (ipykernel)",
   "language": "python",
   "name": "python3"
  },
  "language_info": {
   "codemirror_mode": {
    "name": "ipython",
    "version": 3
   },
   "file_extension": ".py",
   "mimetype": "text/x-python",
   "name": "python",
   "nbconvert_exporter": "python",
   "pygments_lexer": "ipython3",
   "version": "3.10.15"
  }
 },
 "nbformat": 4,
 "nbformat_minor": 5
}
