{
 "cells": [
  {
   "cell_type": "markdown",
   "metadata": {},
   "source": [
    "# Exploratory Data Analysis"
   ]
  },
  {
   "cell_type": "markdown",
   "metadata": {},
   "source": [
    "#### What is the problem we are trying to solve?  \n",
    "Develop a medical question-answering system utilizing the provided dataset containing medical  information.  \n",
    "The goal is to create a model that can effectively answer user queries related to  medical diseases. You are free to augment the provided dataset with other medical datasets if  you feel it is necessary."
   ]
  },
  {
   "cell_type": "code",
   "execution_count": 116,
   "metadata": {},
   "outputs": [],
   "source": [
    "import pandas as pd\n",
    "import numpy as np\n",
    "import matplotlib.pyplot as plt\n",
    "import os\n",
    "import string"
   ]
  },
  {
   "cell_type": "markdown",
   "metadata": {},
   "source": [
    "## Let's load our dataset  "
   ]
  },
  {
   "cell_type": "code",
   "execution_count": 76,
   "metadata": {},
   "outputs": [],
   "source": [
    "abs_path = os.path.abspath('../../')\n",
    "path_to_data = 'data/raw/'\n",
    "filename = 'intern_screening_dataset.csv'"
   ]
  },
  {
   "cell_type": "code",
   "execution_count": 77,
   "metadata": {},
   "outputs": [],
   "source": [
    "# load our dataset\n",
    "raw_dataset = pd.read_csv(os.path.join(abs_path, path_to_data, filename))"
   ]
  },
  {
   "cell_type": "code",
   "execution_count": 78,
   "metadata": {},
   "outputs": [
    {
     "data": {
      "text/html": [
       "<div>\n",
       "<style scoped>\n",
       "    .dataframe tbody tr th:only-of-type {\n",
       "        vertical-align: middle;\n",
       "    }\n",
       "\n",
       "    .dataframe tbody tr th {\n",
       "        vertical-align: top;\n",
       "    }\n",
       "\n",
       "    .dataframe thead th {\n",
       "        text-align: right;\n",
       "    }\n",
       "</style>\n",
       "<table border=\"1\" class=\"dataframe\">\n",
       "  <thead>\n",
       "    <tr style=\"text-align: right;\">\n",
       "      <th></th>\n",
       "      <th>question</th>\n",
       "      <th>answer</th>\n",
       "    </tr>\n",
       "  </thead>\n",
       "  <tbody>\n",
       "    <tr>\n",
       "      <th>0</th>\n",
       "      <td>What is (are) Glaucoma ?</td>\n",
       "      <td>Glaucoma is a group of diseases that can damag...</td>\n",
       "    </tr>\n",
       "    <tr>\n",
       "      <th>1</th>\n",
       "      <td>What is (are) Glaucoma ?</td>\n",
       "      <td>The optic nerve is a bundle of more than 1 mil...</td>\n",
       "    </tr>\n",
       "    <tr>\n",
       "      <th>2</th>\n",
       "      <td>What is (are) Glaucoma ?</td>\n",
       "      <td>Open-angle glaucoma is the most common form of...</td>\n",
       "    </tr>\n",
       "    <tr>\n",
       "      <th>3</th>\n",
       "      <td>Who is at risk for Glaucoma? ?</td>\n",
       "      <td>Anyone can develop glaucoma. Some people are a...</td>\n",
       "    </tr>\n",
       "    <tr>\n",
       "      <th>4</th>\n",
       "      <td>How to prevent Glaucoma ?</td>\n",
       "      <td>At this time, we do not know how to prevent gl...</td>\n",
       "    </tr>\n",
       "    <tr>\n",
       "      <th>5</th>\n",
       "      <td>What are the symptoms of Glaucoma ?</td>\n",
       "      <td>At first, open-angle glaucoma has no symptoms....</td>\n",
       "    </tr>\n",
       "    <tr>\n",
       "      <th>6</th>\n",
       "      <td>What are the treatments for Glaucoma ?</td>\n",
       "      <td>Yes. Immediate treatment for early stage, open...</td>\n",
       "    </tr>\n",
       "    <tr>\n",
       "      <th>7</th>\n",
       "      <td>what research (or clinical trials) is being do...</td>\n",
       "      <td>Through studies in the laboratory and with pat...</td>\n",
       "    </tr>\n",
       "    <tr>\n",
       "      <th>8</th>\n",
       "      <td>Who is at risk for Glaucoma? ?</td>\n",
       "      <td>Encourage them to have a comprehensive dilated...</td>\n",
       "    </tr>\n",
       "    <tr>\n",
       "      <th>9</th>\n",
       "      <td>What is (are) Glaucoma ?</td>\n",
       "      <td>National Eye Institute  National Institutes of...</td>\n",
       "    </tr>\n",
       "  </tbody>\n",
       "</table>\n",
       "</div>"
      ],
      "text/plain": [
       "                                            question  \\\n",
       "0                           What is (are) Glaucoma ?   \n",
       "1                           What is (are) Glaucoma ?   \n",
       "2                           What is (are) Glaucoma ?   \n",
       "3                     Who is at risk for Glaucoma? ?   \n",
       "4                          How to prevent Glaucoma ?   \n",
       "5                What are the symptoms of Glaucoma ?   \n",
       "6             What are the treatments for Glaucoma ?   \n",
       "7  what research (or clinical trials) is being do...   \n",
       "8                     Who is at risk for Glaucoma? ?   \n",
       "9                           What is (are) Glaucoma ?   \n",
       "\n",
       "                                              answer  \n",
       "0  Glaucoma is a group of diseases that can damag...  \n",
       "1  The optic nerve is a bundle of more than 1 mil...  \n",
       "2  Open-angle glaucoma is the most common form of...  \n",
       "3  Anyone can develop glaucoma. Some people are a...  \n",
       "4  At this time, we do not know how to prevent gl...  \n",
       "5  At first, open-angle glaucoma has no symptoms....  \n",
       "6  Yes. Immediate treatment for early stage, open...  \n",
       "7  Through studies in the laboratory and with pat...  \n",
       "8  Encourage them to have a comprehensive dilated...  \n",
       "9  National Eye Institute  National Institutes of...  "
      ]
     },
     "execution_count": 78,
     "metadata": {},
     "output_type": "execute_result"
    }
   ],
   "source": [
    "# how does the 10 first samples look like?\n",
    "raw_dataset.head(10)"
   ]
  },
  {
   "cell_type": "code",
   "execution_count": 79,
   "metadata": {},
   "outputs": [
    {
     "name": "stdout",
     "output_type": "stream",
     "text": [
      "There are 16,406 samples in this dataset.\n"
     ]
    }
   ],
   "source": [
    "# check # of samples in the dataset\n",
    "print(f\"There are {raw_dataset.shape[0]:,.0f} samples in this dataset.\")"
   ]
  },
  {
   "cell_type": "code",
   "execution_count": 81,
   "metadata": {},
   "outputs": [
    {
     "name": "stdout",
     "output_type": "stream",
     "text": [
      "<class 'pandas.core.frame.DataFrame'>\n",
      "RangeIndex: 16406 entries, 0 to 16405\n",
      "Data columns (total 2 columns):\n",
      " #   Column    Non-Null Count  Dtype \n",
      "---  ------    --------------  ----- \n",
      " 0   question  16406 non-null  object\n",
      " 1   answer    16401 non-null  object\n",
      "dtypes: object(2)\n",
      "memory usage: 256.5+ KB\n"
     ]
    }
   ],
   "source": [
    "# check general description of the dataset\n",
    "# there are some null values\n",
    "raw_dataset.info()"
   ]
  },
  {
   "cell_type": "code",
   "execution_count": 82,
   "metadata": {},
   "outputs": [
    {
     "name": "stdout",
     "output_type": "stream",
     "text": [
      "There are 48 duplicate samples\n"
     ]
    }
   ],
   "source": [
    "# are there any duplicate examples?\n",
    "print(f\"There are {raw_dataset.shape[0]-raw_dataset.drop_duplicates().shape[0]:,.0f} duplicate samples\")"
   ]
  },
  {
   "cell_type": "code",
   "execution_count": 83,
   "metadata": {},
   "outputs": [
    {
     "name": "stdout",
     "output_type": "stream",
     "text": [
      "Number of samples after removing duplicate ones:\n",
      "16,358\n"
     ]
    }
   ],
   "source": [
    "# let's drop the duplicate ones, they could mislead some metrics\n",
    "raw_dataset = raw_dataset.drop_duplicates()\n",
    "print(\"Number of samples after removing duplicate ones:\")\n",
    "print(f\"{raw_dataset.shape[0]:,.0f}\")"
   ]
  },
  {
   "cell_type": "code",
   "execution_count": 84,
   "metadata": {},
   "outputs": [
    {
     "name": "stdout",
     "output_type": "stream",
     "text": [
      "# of null values for questions question\n",
      "False    16358\n",
      "Name: count, dtype: int64\n",
      "\n",
      "# of null values for answers answer\n",
      "False    16353\n",
      "True         5\n",
      "Name: count, dtype: int64\n",
      "\n"
     ]
    }
   ],
   "source": [
    "# let's check for null values in the dataset\n",
    "print(f\"# of null values for questions {raw_dataset.isnull()['question'].value_counts()}\")\n",
    "print()\n",
    "print(f\"# of null values for answers {raw_dataset.isnull()['answer'].value_counts()}\")\n",
    "print()\n",
    "# There are 5 null values for answer. So let's remove them"
   ]
  },
  {
   "cell_type": "code",
   "execution_count": 85,
   "metadata": {},
   "outputs": [
    {
     "data": {
      "text/plain": [
       "(16353, 2)"
      ]
     },
     "execution_count": 85,
     "metadata": {},
     "output_type": "execute_result"
    }
   ],
   "source": [
    "# remove samples that have null values for the answer column\n",
    "raw_dataset = raw_dataset.dropna(subset=['answer'])\n",
    "raw_dataset.shape"
   ]
  },
  {
   "cell_type": "code",
   "execution_count": 113,
   "metadata": {},
   "outputs": [],
   "source": [
    "# reformat the question by replacing _? by ? without space\n",
    "raw_dataset['question'] = raw_dataset['question'].map(lambda x: x.replace(' ?', '?'))"
   ]
  },
  {
   "cell_type": "code",
   "execution_count": 117,
   "metadata": {},
   "outputs": [
    {
     "data": {
      "text/html": [
       "<div>\n",
       "<style scoped>\n",
       "    .dataframe tbody tr th:only-of-type {\n",
       "        vertical-align: middle;\n",
       "    }\n",
       "\n",
       "    .dataframe tbody tr th {\n",
       "        vertical-align: top;\n",
       "    }\n",
       "\n",
       "    .dataframe thead th {\n",
       "        text-align: right;\n",
       "    }\n",
       "</style>\n",
       "<table border=\"1\" class=\"dataframe\">\n",
       "  <thead>\n",
       "    <tr style=\"text-align: right;\">\n",
       "      <th></th>\n",
       "      <th>question</th>\n",
       "      <th>answer</th>\n",
       "      <th>num_words_in_answer</th>\n",
       "    </tr>\n",
       "  </thead>\n",
       "  <tbody>\n",
       "    <tr>\n",
       "      <th>2555</th>\n",
       "      <td>What are the symptoms of Bell's palsy?</td>\n",
       "      <td>What are the symptoms of Bell's palsy?</td>\n",
       "      <td>7</td>\n",
       "    </tr>\n",
       "    <tr>\n",
       "      <th>2556</th>\n",
       "      <td>What causes Bell's palsy?</td>\n",
       "      <td>What causes Bell's palsy?</td>\n",
       "      <td>4</td>\n",
       "    </tr>\n",
       "    <tr>\n",
       "      <th>3124</th>\n",
       "      <td>Is Wolff-Parkinson-White syndrome inherited?</td>\n",
       "      <td>Is Wolff-Parkinson-White syndrome inherited?</td>\n",
       "      <td>4</td>\n",
       "    </tr>\n",
       "    <tr>\n",
       "      <th>3135</th>\n",
       "      <td>Is Williams syndrome inherited?</td>\n",
       "      <td>Is Williams syndrome inherited?</td>\n",
       "      <td>4</td>\n",
       "    </tr>\n",
       "  </tbody>\n",
       "</table>\n",
       "</div>"
      ],
      "text/plain": [
       "                                          question  \\\n",
       "2555        What are the symptoms of Bell's palsy?   \n",
       "2556                     What causes Bell's palsy?   \n",
       "3124  Is Wolff-Parkinson-White syndrome inherited?   \n",
       "3135               Is Williams syndrome inherited?   \n",
       "\n",
       "                                            answer  num_words_in_answer  \n",
       "2555        What are the symptoms of Bell's palsy?                    7  \n",
       "2556                     What causes Bell's palsy?                    4  \n",
       "3124  Is Wolff-Parkinson-White syndrome inherited?                    4  \n",
       "3135               Is Williams syndrome inherited?                    4  "
      ]
     },
     "execution_count": 117,
     "metadata": {},
     "output_type": "execute_result"
    }
   ],
   "source": [
    "# are there cases where the question is the same as the answer? We don't want those examples\n",
    "raw_dataset[raw_dataset['question'].map(lambda x: ''.join([c for c in x if x not in string.punctuation])).values == raw_dataset['answer'].map(lambda x: ''.join([c for c in x if x not in string.punctuation])).values]"
   ]
  },
  {
   "cell_type": "code",
   "execution_count": 119,
   "metadata": {},
   "outputs": [],
   "source": [
    "# Let's remove those\n",
    "raw_dataset = raw_dataset.drop(index=[2555,2556,3124,3135])"
   ]
  },
  {
   "cell_type": "code",
   "execution_count": 123,
   "metadata": {},
   "outputs": [
    {
     "data": {
      "text/plain": [
       "(16349, 3)"
      ]
     },
     "execution_count": 123,
     "metadata": {},
     "output_type": "execute_result"
    }
   ],
   "source": [
    "raw_dataset.shape"
   ]
  },
  {
   "cell_type": "code",
   "execution_count": 125,
   "metadata": {},
   "outputs": [
    {
     "name": "stdout",
     "output_type": "stream",
     "text": [
      "There are 1375 duplicated questions\n",
      "There are 542 duplicated answers\n"
     ]
    }
   ],
   "source": [
    "# are there duplicated questions? or answers?\n",
    "print(f\"There are {raw_dataset.shape[0]-np.unique(raw_dataset['question']).shape[0]} duplicated questions\")\n",
    "print(f\"There are {raw_dataset.shape[0]-np.unique(raw_dataset['answer']).shape[0]} duplicated answers\")"
   ]
  },
  {
   "cell_type": "code",
   "execution_count": 135,
   "metadata": {},
   "outputs": [
    {
     "name": "stdout",
     "output_type": "stream",
     "text": [
      "what research (or clinical trials) is being done for Uterine Sarcoma?\n",
      "New types of treatment are being tested in clinical trials.\n",
      "                    Information about clinical trials is available from the NCI website.\n",
      "                \n",
      "                \n",
      "                    Patients may want to think about taking part in a clinical trial.\n",
      "                    For some patients, taking part in a clinical trial may be the best treatment choice. Clinical trials are part of the cancer research process. Clinical trials are done to find out if new cancer treatments are safe and effective or better than the standard treatment.   Many of today's standard treatments for cancer are based on earlier clinical trials. Patients who take part in a clinical trial may receive the standard treatment or be among the first to receive a new treatment.   Patients who take part in clinical trials also help improve the way cancer will be treated in the future. Even when clinical trials do not lead to effective new treatments, they often answer important questions and help move research forward.\n",
      "                \n",
      "                \n",
      "                    Patients can enter clinical trials before, during, or after starting their cancer treatment.\n",
      "                    Some clinical trials only include patients who have not yet received treatment. Other trials test treatments for patients whose cancer has not gotten better. There are also clinical trials that test new ways to stop cancer from recurring (coming back) or reduce the side effects of cancer treatment.   Clinical trials are taking place in many parts of the country. See the Treatment Options section that follows for links to current treatment clinical trials. These have been retrieved from NCI's listing of clinical trials.\n"
     ]
    }
   ],
   "source": [
    "print(raw_dataset[raw_dataset.duplicated(subset=['answer'])].head(20)['question'].values[0])\n",
    "print(raw_dataset[raw_dataset.duplicated(subset=['answer'])].head(20)['answer'].values[0])"
   ]
  },
  {
   "cell_type": "code",
   "execution_count": null,
   "metadata": {},
   "outputs": [],
   "source": [
    "raw_dataset[raw_dataset.duplicated(subset=['answer'])].head(20)['answer'].values[0]"
   ]
  },
  {
   "cell_type": "code",
   "execution_count": 124,
   "metadata": {},
   "outputs": [
    {
     "data": {
      "text/plain": [
       "(15807,)"
      ]
     },
     "execution_count": 124,
     "metadata": {},
     "output_type": "execute_result"
    }
   ],
   "source": [
    "# are there duplicated questions? or answers?\n"
   ]
  },
  {
   "cell_type": "markdown",
   "metadata": {},
   "source": [
    "Let's pick up random examples so we can understand the structure of the questions and answers in the dataset\n"
   ]
  },
  {
   "cell_type": "code",
   "execution_count": 86,
   "metadata": {},
   "outputs": [
    {
     "name": "stdout",
     "output_type": "stream",
     "text": [
      "# of random samples: 49\n"
     ]
    }
   ],
   "source": [
    "# frac set to a number to approximate 50 samples\n",
    "random_samples = raw_dataset.sample(frac=0.003, random_state=42)\n",
    "print(f\"# of random samples: {random_samples.shape[0]}\")"
   ]
  },
  {
   "cell_type": "code",
   "execution_count": 50,
   "metadata": {},
   "outputs": [
    {
     "name": "stdout",
     "output_type": "stream",
     "text": [
      "3800\n",
      "Is Olivopontocerebellar atrophy inherited ?\n",
      "Is olivopontocerebellar atrophy inherited? Olivopontocerebellar atrophy (OPCA) may be associated with conditions that are inherited (genetic), or it may occur sporadically. Genetic forms of OPCA may be inherited in an autosomal dominant, autosomal recessive, or X-linked manner. The inheritance pattern depends on the specific genetic cause. For example, OPCA associated with spinocerebellar ataxia 3 is inherited in an autosomal dominant manner. Most types of inherited OPCA are associated with spinocerebellar ataxias that follow autosomal dominant inheritance.   Sporadic OPCA refers to when the condition occurs for unknown reasons, or when there is no evidence of a genetic basis. Some people with sporadic OPCA will eventually develop multiple system atrophy (MSA). People with a personal or family history of OPCA are encouraged to speak with a genetic counselor or other genetics professional. A genetics professional can evaluate the family history; address questions and concerns; assess recurrence risks; and facilitate genetic testing if desired.\n",
      "\n",
      "7580\n",
      "What is (are) Malignant peripheral nerve sheath tumor ?\n",
      "A malignant peripheral nerve sheath tumor (MPNST) is a tumor that develops from nerve tissue.  The first symptom of MPNST is a lump or mass that increases in size, sometimes causing pain or a tingling sensation.  MPNST is considered an aggressive tumor because there is up to a 65% chance of the tumor regrowing after surgery (a recurrence), and approximately 40% chance of spreading to distant parts of the body (a metastasis), most commonly to the lung.  Treatment of MPNST begins with surgery to remove as much of the tumor as possible.  Radiation therapy may be used to decrease the chance of a recurrence.  Chemotherapy might be used if the whole tumor cannot be removed during surgery, or to treat a metastasis.  MPNSTs are quite rare, occurring in 0.001% of the general population.  Approximately 25-50% of MPNSTs are associated with a genetic condition known as neurofibromatosis type 1.\n",
      "\n",
      "15434\n",
      "Who is at risk for What I need to know about Erectile Dysfunction? ?\n",
      "Erectile dysfunction affects men of all races and in all parts of the world. Men are more likely to have ED as they get older. For example, ED occurs in\n",
      "                \n",
      "- about 12 percent of men younger than 60  - 22 percent of men age 60 to 69  - 30 percent of men age 70 or older\n",
      "\n",
      "4034\n",
      "What is (are) Hermansky-Pudlak syndrome ?\n",
      "Hermansky-Pudlak syndrome is a multisystem, genetic condition characterized by blood platelet dysfunction with prolonged bleeding, visual impairment, and abnormally light coloring of the skin, hair, and eyes (oculocutaneous albinism). Long-term sun exposure greatly increases the risk of skin damage and skin cancers. Some individuals have colitis, kidney failure, and pulmonary fibrosis. Symptoms of pulmonary fibrosis usually appear during the early thirties and rapidly worsen. This condition is inherited in an autosomal recessive fashion. Treatment is symptomatic and supportive. There are nine different types of Hermansky-Pudlak syndrome, which can be distinguished by their signs and symptoms and underlying genetic cause. Types 1 and 4 are the most severe forms. Types 1, 2, and 4 are the only types associated with pulmonary fibrosis. Individuals with type 3, 5, or 6 have the mildest symptoms of all the types. Little is known about the signs, symptoms, and severity of types 7, 8 and 9.\n",
      "\n",
      "11012\n",
      "How many people are affected by Snyder-Robinson syndrome ?\n",
      "Snyder-Robinson syndrome is a rare condition; its prevalence is unknown. About 10 affected families have been identified worldwide.\n",
      "\n",
      "6765\n",
      "What is (are) Occipital horn syndrome ?\n",
      "Occipital horn syndrome (OHS) is characterized by sagging and non-stretchy skin (cutis laxa), wedge-shaped calcium deposits in a bone at the base of the skull (occipital bone), coarse hair, and loose joints.  Individuals with OHS are said to have normal or slightly reduced intelligence. This condition is considered to be a mild type of Menkes diseases, which affects copper levels in the body.  Occipital horn syndrome may be caused by mutations in the ATP7A gene, and it is inherited in an x-linked recessive pattern.\n",
      "\n",
      "13788\n",
      "What are the genetic changes related to mitochondrial neurogastrointestinal encephalopathy disease ?\n",
      "Mutations in the TYMP gene (previously known as ECGF1) cause MNGIE disease. This gene provides instructions for making an enzyme called thymidine phosphorylase. Thymidine is a molecule known as a nucleoside, which (after a chemical modification) is used as a building block of DNA. Thymidine phosphorylase breaks down thymidine into smaller molecules, which helps regulate the level of nucleosides in cells.  TYMP mutations greatly reduce or eliminate the activity of thymidine phosphorylase. A shortage of this enzyme allows thymidine to build up to very high levels in the body. Researchers believe that an excess of this molecule is damaging to a particular kind of DNA known as mitochondrial DNA or mtDNA. Mitochondria are structures within cells that convert the energy from food into a form that cells can use. Although most DNA is packaged in chromosomes within the nucleus, mitochondria also have a small amount of their own DNA.  Mitochondria use nucleosides, including thymidine, to build new molecules of mtDNA as needed. A loss of thymidine phosphorylase activity and the resulting buildup of thymidine disrupt the usual maintenance and repair of mtDNA. As a result, mutations can accumulate in mtDNA, causing it to become unstable. Additionally, mitochondria may have less mtDNA than usual (mtDNA depletion). These genetic changes impair the normal function of mitochondria. Although mtDNA abnormalities underlie the digestive and neurological problems characteristic of MNGIE disease, it is unclear how defective mitochondria cause the specific features of the disorder.\n",
      "\n",
      "12938\n",
      "What are the genetic changes related to recombinant 8 syndrome ?\n",
      "Recombinant 8 syndrome is caused by a rearrangement of chromosome 8 that results in a deletion of a piece of the short (p) arm and a duplication of a piece of the long (q) arm. The deletion and duplication result in the recombinant 8 chromosome. The signs and symptoms of recombinant 8 syndrome are related to the loss and addition of genetic material on these regions of chromosome 8. Researchers are working to determine which genes are involved in the deletion and duplication on chromosome 8.\n",
      "\n",
      "13026\n",
      "What is (are) diastrophic dysplasia ?\n",
      "Diastrophic dysplasia is a disorder of cartilage and bone development. Affected individuals have short stature with very short arms and legs. Most also have early-onset joint pain (osteoarthritis) and joint deformities called contractures, which restrict movement. These joint problems often make it difficult to walk and tend to worsen with age. Additional features of diastrophic dysplasia include an inward- and upward-turning foot (clubfoot), progressive abnormal curvature of the spine, and unusually positioned thumbs (hitchhiker thumbs). About half of infants with diastrophic dysplasia are born with an opening in the roof of the mouth (a cleft palate). Swelling of the external ears is also common in newborns and can lead to thickened, deformed ears.  The signs and symptoms of diastrophic dysplasia are similar to those of another skeletal disorder called atelosteogenesis type 2; however, diastrophic dysplasia tends to be less severe. Although some affected infants have breathing problems, most people with diastrophic dysplasia live into adulthood.\n",
      "\n",
      "11701\n",
      "What is (are) X-linked adrenoleukodystrophy ?\n",
      "X-linked adrenoleukodystrophy is a genetic disorder that occurs primarily in males. It mainly affects the nervous system and the adrenal glands, which are small glands located on top of each kidney. In this disorder, the fatty covering (myelin) that insulates nerves in the brain and spinal cord is prone to deterioration (demyelination), which reduces the ability of the nerves to relay information to the brain. In addition, damage to the outer layer of the adrenal glands (adrenal cortex) causes a shortage of certain hormones (adrenocortical insufficiency). Adrenocortical insufficiency may cause weakness, weight loss, skin changes, vomiting, and coma.  There are three distinct types of X-linked adrenoleukodystrophy: a childhood cerebral form, an adrenomyeloneuropathy type, and a form called Addison disease only.  Children with the cerebral form of X-linked adrenoleukodystrophy experience learning and behavioral problems that usually begin between the ages of 4 and 10. Over time the symptoms worsen, and these children may have difficulty reading, writing, understanding speech, and comprehending written material. Additional signs and symptoms of the cerebral form include aggressive behavior, vision problems, difficulty swallowing, poor coordination, and impaired adrenal gland function. The rate at which this disorder progresses is variable but can be extremely rapid, often leading to total disability within a few years. The life expectancy of individuals with this type depends on the severity of the signs and symptoms and how quickly the disorder progresses. Individuals with the cerebral form of X-linked adrenoleukodystrophy usually survive only a few years after symptoms begin but may survive longer with intensive medical support.  Signs and symptoms of the adrenomyeloneuropathy type appear between early adulthood and middle age. Affected individuals develop progressive stiffness and weakness in their legs (paraparesis), experience urinary and genital tract disorders, and often show changes in behavior and thinking ability. Most people with the adrenomyeloneuropathy type also have adrenocortical insufficiency. In some severely affected individuals, damage to the brain and nervous system can lead to early death.  People with X-linked adrenoleukodystrophy whose only symptom is adrenocortical insufficiency are said to have the Addison disease only form. In these individuals, adrenocortical insufficiency can begin anytime between childhood and adulthood. However, most affected individuals develop the additional features of the adrenomyeloneuropathy type by the time they reach middle age. The life expectancy of individuals with this form depends on the severity of the signs and symptoms, but typically this is the mildest of the three types.  Rarely, individuals with X-linked adrenoleukodystrophy develop multiple features of the disorder in adolescence or early adulthood. In addition to adrenocortical insufficiency, these individuals usually have psychiatric disorders and a loss of intellectual function (dementia). It is unclear whether these individuals have a distinct form of the condition or a variation of one of the previously described types.  For reasons that are unclear, different forms of X-linked adrenoleukodystrophy can be seen in affected individuals within the same family.\n",
      "\n",
      "15107\n",
      "How many people are affected by immune dysregulation, polyendocrinopathy, enteropathy, X-linked syndrome ?\n",
      "IPEX syndrome is a rare disorder; its prevalence is unknown.\n",
      "\n",
      "8270\n",
      "Who is at risk for ARDS? ?\n",
      "People at risk for ARDS have a condition or illness that can directly or indirectly injure their lungs.\n",
      "                \n",
      "Direct Lung Injury\n",
      "                \n",
      "Conditions that can directly injure the lungs include:\n",
      "                \n",
      "Pneumonia. This is an infection in the lungs.\n",
      "                \n",
      "Breathing in harmful fumes or smoke.\n",
      "                \n",
      "Inhaling vomited stomach contents from the mouth.\n",
      "                \n",
      "Using a ventilator. This is a machine that helps people breathe; rarely, it can injure the lungs.\n",
      "                \n",
      "Nearly drowning.\n",
      "                \n",
      "Indirect Lung Injury\n",
      "                \n",
      "Conditions that can indirectly injure the lungs include:\n",
      "                \n",
      "Sepsis. This is a condition in which bacteria infect the bloodstream.\n",
      "                \n",
      "Severe bleeding caused by an injury to the body or having many blood transfusions.\n",
      "                \n",
      "An injury to the chest or head, such as a severe blow.\n",
      "                \n",
      "Pancreatitis (PAN-kre-a-TI-tis). This is a condition in which the pancreas becomes irritated or infected. The pancreas is a gland that releases enzymes and hormones.\n",
      "                \n",
      "Fat embolism (EM-bo-lizm). This is a condition in which fat blocks an artery. A physical injury, like a broken bone, can lead to a fat embolism.\n",
      "                \n",
      "Drug reaction.\n",
      "\n",
      "4903\n",
      "What is (are) Hairy cell leukemia ?\n",
      "Hairy cell leukemia is a rare, slow-growing cancer of the blood in which the bone marrow makes too many B cells (lymphocytes), a type of white blood cell that fights infection. The condition is named after these excess B cells which look 'hairy' under a microscope. As the number of leukemia cells increases, fewer healthy white blood cells, red blood cells and platelets are produced. The underlying cause of this condition is unknown. While there is no cure, treatment can lead to remission which can last for years.\n",
      "\n",
      "11463\n",
      "What are the genetic changes related to protein C deficiency ?\n",
      "Protein C deficiency is caused by mutations in the PROC gene. This gene provides instructions for making protein C, which is found in the bloodstream and is important for controlling blood clotting. Protein C blocks the activity of (inactivates) certain proteins that promote blood clotting.  Most of the mutations that cause protein C deficiency change single protein building blocks (amino acids) in protein C, which disrupts its ability to control blood clotting. Individuals with this condition do not have enough functional protein C to inactivate clotting proteins, which results in the increased risk of developing abnormal blood clots. Protein C deficiency can be divided into type I and type II based on how mutations in the PROC gene affect protein C. Type I is caused by PROC gene mutations that result in reduced levels of protein C, while type II is caused by PROC gene mutations that result in the production of an altered protein C with reduced activity. Both types of mutations can be associated with mild or severe protein C deficiency; the severity is determined by the number of PROC gene mutations an individual has.\n",
      "\n",
      "5678\n",
      "Is Mitochondrial encephalomyopathy lactic acidosis and stroke-like episodes inherited ?\n",
      "How is mitochondrial encephalomyopathy, lactic acidosis, and stroke-like episodes (MELAS) inherited? MELAS is caused by mutations in mitochondrial DNA (mtDNA) and is therefore transmitted by maternal inheritance (also called mitochondrial inheritance). This type of inheritance applies to all conditions caused by genes in mtDNA. Mitochondria are structures in each cell that turn molecules into energy, and each contain a small amount of DNA. Only egg cells (not sperm cells) contribute mitochondria to offspring, so only females can pass on mitochondrial mutations to their children. Conditions resulting from mutations in mtDNA can appear in every generation of a family and can affect both males and females. In most cases, people with MELAS inherit an altered mitochondrial gene from their mother. Less commonly, the condition results from a new mutation in a mitochondrial gene and occurs in an individual with no history of MELAS in the family.\n",
      "\n",
      "14826\n",
      "What is (are) hypermethioninemia ?\n",
      "Hypermethioninemia is an excess of a particular protein building block (amino acid), called methionine, in the blood. This condition can occur when methionine is not broken down (metabolized) properly in the body.  People with hypermethioninemia often do not show any symptoms. Some individuals with hypermethioninemia exhibit intellectual disability and other neurological problems; delays in motor skills such as standing or walking; sluggishness; muscle weakness; liver problems; unusual facial features; and their breath, sweat, or urine may have a smell resembling boiled cabbage.  Hypermethioninemia can occur with other metabolic disorders, such as homocystinuria, tyrosinemia and galactosemia, which also involve the faulty breakdown of particular molecules. It can also result from liver disease or excessive dietary intake of methionine from consuming large amounts of protein or a methionine-enriched infant formula.\n",
      "\n",
      "8197\n",
      "What are the treatments for Fanconi Anemia ?\n",
      "Doctors decide how to treat Fanconi anemia (FA) based on a person's age and how well the person's bone marrow is making new blood cells.\n",
      "                \n",
      "Goals of Treatment\n",
      "                \n",
      "Long-term treatments for FA can:\n",
      "                \n",
      "Cure the anemia. Damaged bone marrow cells are replaced with healthy ones that can make enough of all three types of blood cells on their own.\n",
      "                \n",
      "Or\n",
      "                \n",
      "Treat the symptoms without curing the cause. This is done using medicines and other substances that can help your body make more blood cells for a limited time.\n",
      "                \n",
      "Screening and Short-Term Treatment\n",
      "                \n",
      "Even if you or your child has FA, your bone marrow might still be able to make enough new blood cells. If so, your doctor might suggest frequent blood count checks so he or she can watch your condition.\n",
      "                \n",
      "Your doctor will probably want you to have bone marrow tests once a year. He or she also will screen you for any signs of cancer or tumors.\n",
      "                \n",
      "If your blood counts begin to drop sharply and stay low, your bone marrow might be failing. Your doctor may prescribe antibiotics to help your body fight infections. In the short term, he or she also may want to give you blood transfusions to increase your blood cell counts to normal levels.\n",
      "                \n",
      "However, long-term use of blood transfusions can reduce the chance that other treatments will work.\n",
      "                \n",
      "Long-Term Treatment\n",
      "                \n",
      "The four main types of long-term treatment for FA are:\n",
      "                \n",
      "Blood and marrow stem cell transplant\n",
      "                \n",
      "Androgen therapy\n",
      "                \n",
      "Synthetic growth factors\n",
      "                \n",
      "Gene therapy\n",
      "                \n",
      "Blood and Marrow Stem Cell Transplant\n",
      "                \n",
      "A blood and marrow stem cell transplant is the current standard treatment for patients who have FA that's causing major bone marrow failure. Healthy stem cells from another person, called a donor, are used to replace the faulty cells in your bone marrow.\n",
      "                \n",
      "If you're going to receive stem cells from another person, your doctor will want to find a donor whose stem cells match yours as closely as possible.\n",
      "                \n",
      "Stem cell transplants are most successful in younger people who:\n",
      "                \n",
      "Have few or no serious health problems\n",
      "                \n",
      "Receive stem cells from a brother or sister who is a good donor match \n",
      "                \n",
      "Have had few or no previous blood transfusions\n",
      "                \n",
      "During the transplant, you'll get donated stem cells in a procedure that's like a blood transfusion. Once the new stem cells are in your body, they travel to your bone marrow and begin making new blood cells.\n",
      "                \n",
      "A successful stem cell transplant will allow your body to make enough of all three types of blood cells.\n",
      "                \n",
      "Even if you've had a stem cell transplant to treat FA, youre still at risk for some types of blood cancer and cancerous solid tumors. Your doctor will check your health regularly after the procedure.\n",
      "                \n",
      "For more information about stem cell transplantsincluding finding a donor, having the procedure, and learning about the risksgo to the Health Topics Blood and Marrow Stem Cell Transplant article.\n",
      "                \n",
      "Androgen Therapy\n",
      "                \n",
      "Before improvements made stem cell transplants more effective, androgen therapy was the standard treatment for people who had FA. Androgens are man-made male hormones that can help your body make more blood cells for long periods.\n",
      "                \n",
      "Androgens increase your red blood cell and platelet counts. They don't work as well at raising your white blood cell count.\n",
      "                \n",
      "Unlike a stem cell transplant, androgens don't allow your bone marrow to make enough of all three types of blood cells on its own. You may need ongoing treatment with androgens to control the effects of FA.\n",
      "                \n",
      "Also, over time, androgens lose their ability to help your body make more blood cells, which means you'll need other treatments.\n",
      "                \n",
      "Androgen therapy can have serious side effects, such as liver disease. This treatment also can't prevent you from developing leukemia (a type of blood cancer).\n",
      "                \n",
      "Synthetic Growth Factors\n",
      "                \n",
      "Your doctor may choose to treat your FA with growth factors. These are substances found in your body, but they also can be man-made.\n",
      "                \n",
      "Growth factors help your body make more red and white blood cells. Growth factors that help your body make more platelets still are being studied.\n",
      "                \n",
      "More research is needed on growth factor treatment for FA. Early results suggest that growth factors may have fewer and less serious side effects than androgens.\n",
      "                \n",
      "Gene Therapy\n",
      "                \n",
      "Researchers are looking for ways to replace faulty FA genes with normal, healthy genes. They hope these genes will make proteins that can repair and protect your bone marrow cells. Early results of this therapy hold promise, but more research is needed.\n",
      "                \n",
      "Surgery\n",
      "                \n",
      "FA can cause birth defects that affect the arms, thumbs, hips, legs, and other parts of the body. Doctors may recommend surgery to repair some defects.\n",
      "                \n",
      "For example, your child might be born with a ventricular septal defecta hole or defect in the wall that separates the lower chambers of the heart. His or her doctor may recommend surgery to close the hole so the heart can work properly.\n",
      "                \n",
      "Children who have FA also may need surgery to correct digestive system problems that can harm their nutrition, growth, and survival.\n",
      "                \n",
      "One of the most common problems is an FA-related birth defect in which the trachea (windpipe), which carries air to the lungs, is connected to the esophagus, which carries food to the stomach.\n",
      "                \n",
      "This can cause serious breathing, swallowing, and eating problems and can lead to lung infections. Surgery is needed to separate the two organs and allow normal eating and breathing.\n",
      "\n",
      "12471\n",
      "What is (are) pseudohypoaldosteronism type 1 ?\n",
      "Pseudohypoaldosteronism type 1 (PHA1) is a condition characterized by problems regulating the amount of sodium in the body. Sodium regulation, which is important for blood pressure and fluid balance, primarily occurs in the kidneys. However, sodium can also be removed from the body through other tissues, such as the sweat glands and colon. Pseudohypoaldosteronism type 1 is named for its characteristic signs and symptoms, which mimic (pseudo) low levels (hypo) of a hormone called aldosterone that helps regulate sodium levels. However, people with PHA1 have high levels of aldosterone.  There are two types of PHA1 distinguished by their severity, the genes involved, and how they are inherited. One type, called autosomal dominant PHA1 (also known as renal PHA1) is characterized by excessive sodium loss from the kidneys. This form of the condition is relatively mild and often improves in early childhood. The other type, called autosomal recessive PHA1 (also known as generalized or systemic PHA1) is characterized by sodium loss from the kidneys and other organs, including the sweat glands, salivary glands, and colon. This type of PHA1 is more severe and does not improve with age.  The earliest signs of both types of PHA1 are usually the inability to gain weight and grow at the expected rate (failure to thrive) and dehydration, which are typically seen in infants. The characteristic features of both types of PHA1 are excessive amounts of sodium released in the urine (salt wasting), which leads to low levels of sodium in the blood (hyponatremia), and high levels of potassium in the blood (hyperkalemia). Infants with PHA1 can also have high levels of acid in the blood (metabolic acidosis). Hyponatremia, hyperkalemia, or metabolic acidosis can cause nonspecific symptoms such as nausea, vomiting, extreme tiredness (fatigue), and muscle weakness in infants with PHA1.  Infants with autosomal recessive PHA1 can have additional signs and symptoms due to the involvement of multiple organs. Affected individuals may experience episodes of abnormal heartbeat (cardiac arrhythmia) or shock because of the imbalance of salts in the body. They may also have recurrent lung infections or lesions on the skin. Although adults with autosomal recessive PHA1 can have repeated episodes of salt wasting, they do not usually have other signs and symptoms of the condition.\n",
      "\n",
      "10553\n",
      "What are the genetic changes related to progressive external ophthalmoplegia ?\n",
      "Progressive external ophthalmoplegia is a condition caused by defects in mitochondria, which are structures within cells that use oxygen to convert the energy from food into a form cells can use. This process is called oxidative phosphorylation. Although most DNA is packaged in chromosomes within the nucleus (nuclear DNA), mitochondria also have a small amount of their own DNA, called mitochondrial DNA or mtDNA.  Progressive external ophthalmoplegia can result from mutations in several different genes. In some cases, mutations in the MT-TL1 gene, which is located in mtDNA, cause progressive external ophthalmoplegia. In other cases, mutations in nuclear DNA are responsible for the condition, particularly mutations in the POLG, SLC25A4, and C10orf2 genes. These genes are critical for mtDNA maintenance. Although the mechanism is unclear, mutations in any of these three genes lead to large deletions of mtDNA, ranging from 2,000 to 10,000 DNA building blocks (nucleotides).  Researchers have not determined how deletions of mtDNA lead to the specific signs and symptoms of progressive external ophthalmoplegia, although the features of the condition are probably related to impaired oxidative phosphorylation. It has been suggested that eye muscles are commonly affected by mitochondrial defects because they are especially dependent on oxidative phosphorylation for energy.\n",
      "\n",
      "3599\n",
      "What is (are) Lafora disease ?\n",
      "Lafora disease is an inherited, severe form of progressive myoclonus epilepsy. The condition most commonly begins with epileptic seizures in late childhood or adolescence. Other signs and symptoms include difficulty walking, muscle spasms (myoclonus) and dementia. Affected people also experience rapid cognitive deterioration that begins around the same time as the seizures. The condition is often fatal within 10 years of onset. Most cases are caused by changes (mutations) in either the EPM2A gene or the NHLRC1 gene and are inherited in an autosomal recessive manner. Treatment is based on the signs and symptoms present in each person.\n",
      "\n",
      "8426\n",
      "What is (are) Restless Legs Syndrome ?\n",
      "Restless legs syndrome (RLS) is a disorder that causes a strong urge to move your legs. This urge to move often occurs with strange and unpleasant feelings in your legs. Moving your legs relieves the urge and the unpleasant feelings.\n",
      "                \n",
      "People who have RLS describe the unpleasant feelings as creeping, crawling, pulling, itching, tingling, burning, aching, or electric shocks. Sometimes, these feelings also occur in the arms.\n",
      "                \n",
      "The urge to move and unpleasant feelings happen when you're resting and inactive. Thus, they tend to be worse in the evening and at night.\n",
      "                \n",
      "Overview\n",
      "                \n",
      "RLS can make it hard to fall asleep and stay asleep. It may make you feel tired and sleepy during the day. This can make it hard to learn, work, and do other daily activities. Not getting enough sleep also can cause depression, mood swings, or other health problems.\n",
      "                \n",
      "RLS can range from mild to severe based on:\n",
      "                \n",
      "The strength of your symptoms and how often they occur\n",
      "                \n",
      "How easily moving around relieves your symptoms\n",
      "                \n",
      "How much your symptoms disturb your sleep\n",
      "                \n",
      "One type of RLS usually starts early in life (before 45 years of age) and tends to run in families. It may even start in childhood. Once this type of RLS starts, it usually lasts for the rest of your life. Over time, symptoms slowly get worse and occur more often. If you have a mild case, you may have long periods with no symptoms.\n",
      "                \n",
      "Another type of RLS usually starts later in life (after 45 years of age). It generally doesn't run in families. This type of RLS tends to have a more abrupt onset. The symptoms usually don't get worse over time.\n",
      "                \n",
      "Some diseases, conditions, and medicines may trigger RLS. For example, the disorder has been linked to kidney failure, Parkinson's disease, diabetes, rheumatoid arthritis, pregnancy, and iron deficiency. When a disease, condition, or medicine causes RLS, the symptoms usually start suddenly.\n",
      "                \n",
      "Medical conditions or medicines often cause or worsen the type of RLS that starts later in life.\n",
      "                \n",
      "Outlook\n",
      "                \n",
      "RLS symptoms often get worse over time. However, some people's symptoms go away for weeks to months.\n",
      "                \n",
      "If a medical condition or medicine triggers RLS, the disorder may go away if the trigger is relieved or stopped. For example, RLS that occurs due to pregnancy tends to go away after giving birth. Kidney transplants (but not dialysis) relieve RLS linked to kidney failure.\n",
      "                \n",
      "Treatments for RLS include lifestyle changes and medicines. Some simple lifestyle changes often help relieve mild cases of RLS. Medicines often can relieve or prevent the symptoms of more severe RLS.\n",
      "                \n",
      "Research is ongoing to better understand the causes of RLS and to find better treatments.\n",
      "\n",
      "15109\n",
      "Is immune dysregulation, polyendocrinopathy, enteropathy, X-linked syndrome inherited ?\n",
      "When IPEX syndrome is due to mutations in the FOXP3 gene, it is inherited in an X-linked recessive pattern. The FOXP3 gene is located on the X chromosome, which is one of the two sex chromosomes. In males (who have only one X chromosome), one altered copy of the gene in each cell is sufficient to cause the condition. In females (who have two X chromosomes), a mutation must be present in both copies of the gene to cause the disorder. Males are affected by X-linked recessive disorders much more frequently than females. A characteristic of X-linked inheritance is that fathers cannot pass X-linked traits to their sons.  Some people have a condition that appears identical to IPEX syndrome, but they do not have mutations in the FOXP3 gene. The inheritance pattern for this IPEX-like syndrome is unknown, but females can be affected.\n",
      "\n",
      "102\n",
      "What are the symptoms of Diabetes ?\n",
      "Diabetes is often called a \"silent\" disease because it can cause serious complications even before you have symptoms. Symptoms can also be so mild that you dont notice them. An estimated 8 million people in the United States have type 2 diabetes and dont know it, according to 2012 estimates by the Centers for Disease Control and Prevention (CDC). Common Signs Some common symptoms of diabetes are: - being very thirsty  - frequent urination  - feeling very hungry or tired  - losing weight without trying  - having sores that heal slowly  - having dry, itchy skin  - loss of feeling or tingling in the feet  - having blurry eyesight. being very thirsty frequent urination feeling very hungry or tired losing weight without trying having sores that heal slowly having dry, itchy skin loss of feeling or tingling in the feet having blurry eyesight. Signs of type 1 diabetes usually develop over a short period of time. The signs for type 2 diabetes develop more gradually. Tests for Diabetes The following tests are used to diagnose diabetes or prediabetes. - An A1C test measures your average blood glucose levels over the past 3 months. It can be used to diagnose type 2 diabetes and prediabetes. It does not require fasting and blood can be drawn for the test any time of the day.  An A1C test measures your average blood glucose levels over the past 3 months. It can be used to diagnose type 2 diabetes and prediabetes. It does not require fasting and blood can be drawn for the test any time of the day. - A fasting plasma glucose, or FPG test, measures your blood glucose after you have gone at least 8 hours without eating. Doctors use this test to detect diabetes or prediabetes.  A fasting plasma glucose, or FPG test, measures your blood glucose after you have gone at least 8 hours without eating. Doctors use this test to detect diabetes or prediabetes. - In a random plasma glucose test, your doctor checks your blood glucose without regard to when you ate your last meal. This test, along with an assessment of symptoms, is used to diagnose diabetes but not prediabetes.  In a random plasma glucose test, your doctor checks your blood glucose without regard to when you ate your last meal. This test, along with an assessment of symptoms, is used to diagnose diabetes but not prediabetes. - An oral glucose tolerance test, or OGTT, measures your blood glucose after you have gone at least 8 hours without eating and 2 hours after you drink a sweet beverage. Doctors also use the oral glucose tolerance test to diagnose gestational diabetes in pregnant women.  An oral glucose tolerance test, or OGTT, measures your blood glucose after you have gone at least 8 hours without eating and 2 hours after you drink a sweet beverage. Doctors also use the oral glucose tolerance test to diagnose gestational diabetes in pregnant women. If any of these tests show that you might have diabetes, your doctor will need to repeat the test with a second measurement unless there are clear symptoms of diabetes. Get more details about tests for diabetes. Who Should Get Tested? Because type 2 diabetes is more common in older people, anyone who is 45 or older should consider getting tested. If you are 45 or older and overweight, getting tested is strongly recommended. If you are younger than 45, overweight, and have one or more risk factors, you also should talk with your doctor about being tested. See risk factors for type 2 diabetes. Why Early Detection is Important Diabetes is a serious disease that can lead to a number of health problems such as heart disease, stroke, vision problems, kidney disease and even death. Sometimes people have symptoms but do not suspect diabetes. They delay scheduling a checkup because they do not feel sick. Many people do not find out they have the disease until they have diabetes complications, such as a heart attack or stroke. Finding out early if you have diabetes is important because treatment can prevent or delay the complications of the disease.\n",
      "\n",
      "8413\n",
      "What is (are) Respiratory Failure ?\n",
      "Respiratory (RES-pih-rah-tor-e) failure is a condition in which not enough oxygen passes from your lungs into your blood. Your body's organs, such as your heart and brain, need oxygen-rich blood to work well.\n",
      "                \n",
      "Respiratory failure also can occur if your lungs can't properly remove carbon dioxide (a waste gas) from your blood. Too much carbon dioxide in your blood can harm your body's organs.\n",
      "                \n",
      "Both of these problemsa low oxygen level and a high carbon dioxide level in the bloodcan occur at the same time.\n",
      "                \n",
      "Diseases and conditions that affect your breathing can cause respiratory failure. Examples include COPD (chronic obstructive pulmonary disease) and spinal cord injuries. COPD prevents enough air from flowing in and out of the airways. Spinal cord injuries can damage the nerves that control breathing.\n",
      "                \n",
      "Overview\n",
      "                \n",
      "To understand respiratory failure, it helps to understand how the lungs work. When you breathe, air passes through your nose and mouth into your windpipe. The air then travels to your lungs' air sacs. These sacs are called alveoli (al-VEE-uhl-eye).\n",
      "                \n",
      "Small blood vessels called capillaries run through the walls of the air sacs. When air reaches the air sacs, the oxygen in the air passes through the air sac walls into the blood in the capillaries. At the same time, carbon dioxide moves from the capillaries into the air sacs. This process is called gas exchange.\n",
      "                \n",
      "In respiratory failure, gas exchange is impaired.\n",
      "                \n",
      "Respiratory failure can be acute (short term) or chronic (ongoing). Acute respiratory failure can develop quickly and may require emergency treatment. Chronic respiratory failure develops more slowly and lasts longer.\n",
      "                \n",
      "Signs and symptoms of respiratory failure may include shortness of breath, rapid breathing, and air hunger (feeling like you can't breathe in enough air). In severe cases, signs and symptoms may include a bluish color on your skin, lips, and fingernails; confusion; and sleepiness.\n",
      "                \n",
      "One of the main goals of treating respiratory failure is to get oxygen to your lungs and other organs and remove carbon dioxide from your body. Another goal is to treat the underlying cause of the condition.\n",
      "                \n",
      "Acute respiratory failure usually is treated in an intensive care unit. Chronic respiratory failure can be treated at home or at a long-term care center.\n",
      "                \n",
      "Outlook\n",
      "                \n",
      "The outlook for respiratory failure depends on the severity of its underlying cause, how quickly treatment begins, and your overall health.\n",
      "                \n",
      "People who have severe lung diseases may need long-term or ongoing breathing support, such as oxygen therapy or the help of a ventilator (VEN-til-a-tor). A ventilator is a machine that supports breathing. It blows airor air with increased amounts of oxygeninto your airways and then your lungs.\n",
      "\n",
      "720\n",
      "What is (are) Dry Eye ?\n",
      "The cornea is the clear, dome-shaped outer surface that covers the eye in front of the iris, which is the colored part of the eye. The cornea helps protect the rest of the eye from germs, dust, and other harmful matter. The cornea is a highly organized, clear structure made up of a group of cells and proteins precisely arranged in layers, but it has no blood vessels to nourish or protect it against infection. Instead, it gets its nourishment from the tears and the watery fluid (aqueous humor) that fill the chamber behind it.\n",
      "\n",
      "7145\n",
      "What are the symptoms of Ankyloblepharon filiforme imperforate anus ?\n",
      "What are the signs and symptoms of Ankyloblepharon filiforme imperforate anus? The Human Phenotype Ontology provides the following list of signs and symptoms for Ankyloblepharon filiforme imperforate anus. If the information is available, the table below includes how often the symptom is seen in people with this condition. You can use the MedlinePlus Medical Dictionary to look up the definitions for these medical terms. Signs and Symptoms Approximate number of patients (when available) Abnormality of the palpebral fissures 90% Urogenital fistula 90% Reduced number of teeth 50% Cleft palate 7.5% Non-midline cleft lip 7.5% The Human Phenotype Ontology (HPO) has collected information on how often a sign or symptom occurs in a condition. Much of this information comes from Orphanet, a European rare disease database. The frequency of a sign or symptom is usually listed as a rough estimate of the percentage of patients who have that feature. The frequency may also be listed as a fraction. The first number of the fraction is how many people had the symptom, and the second number is the total number of people who were examined in one study. For example, a frequency of 25/25 means that in a study of 25 people all patients were found to have that symptom. Because these frequencies are based on a specific study, the fractions may be different if another group of patients are examined. Sometimes, no information on frequency is available. In these cases, the sign or symptom may be rare or common.\n",
      "\n",
      "7831\n",
      "What are the symptoms of Pili torti developmental delay neurological abnormalities ?\n",
      "What are the signs and symptoms of Pili torti developmental delay neurological abnormalities? The Human Phenotype Ontology provides the following list of signs and symptoms for Pili torti developmental delay neurological abnormalities. If the information is available, the table below includes how often the symptom is seen in people with this condition. You can use the MedlinePlus Medical Dictionary to look up the definitions for these medical terms. Signs and Symptoms Approximate number of patients (when available) Abnormality of hair texture 90% Abnormality of the eyelashes 90% Aplasia/Hypoplasia of the eyebrow 90% Cognitive impairment 90% Incoordination 90% Joint hypermobility 90% Pili torti 90% Gait disturbance 50% Muscular hypotonia 50% The Human Phenotype Ontology (HPO) has collected information on how often a sign or symptom occurs in a condition. Much of this information comes from Orphanet, a European rare disease database. The frequency of a sign or symptom is usually listed as a rough estimate of the percentage of patients who have that feature. The frequency may also be listed as a fraction. The first number of the fraction is how many people had the symptom, and the second number is the total number of people who were examined in one study. For example, a frequency of 25/25 means that in a study of 25 people all patients were found to have that symptom. Because these frequencies are based on a specific study, the fractions may be different if another group of patients are examined. Sometimes, no information on frequency is available. In these cases, the sign or symptom may be rare or common.\n",
      "\n",
      "6831\n",
      "What is (are) Stargardt disease ?\n",
      "Stargardt disease is a genetic eye disorder that causes progressive vision loss. It affects the macula, an area of the retina responsible for sharp, central vision. Vision loss is due to abnormal accumulation of a fatty yellow pigment (lipofuscin) in the cells within the macula. People with Stargardt disease also have problems with night vision, and some have problems with color vision. The signs and symptoms of Stargardt disease typically appear in late childhood to early adulthood and worsen over time. It is most commonly caused by mutations in the ABCA4 gene and inherited in an autosomal recessive manner. Rarely it may be caused by mutations in other genes and inherited in an autosomal dominant manner. There is currently no treatment, but various services and devices can help affected people carry out daily activities and maintain their independence.\n",
      "\n",
      "15764\n",
      "What are the treatments for Anemia of Inflammation and Chronic Disease ?\n",
      "Anemia of inflammation and chronic disease often is not treated separately from the condition with which it occurs. In general, health care providers focus on treating the underlying illness. If this treatment is successful, the anemia usually resolves. For example, antibiotics prescribed for infection and anti-inflammatory medications prescribed for rheumatoid arthritis or IBD can cause AI/ACD to disappear. However, AI/ACD is increasingly being viewed as a medical condition that merits direct treatment.\n",
      "                \n",
      "For people with cancer or kidney disease who have low levels of EPO, a synthetic form of EPO may be prescribed. A health care provider usually injects EPO subcutaneouslyunder the skintwo or three times a week. A person may be taught how to inject the EPO at home. People on hemodialysis who cannot tolerate EPO shots may receive EPO intravenously during hemodialysis.\n",
      "                \n",
      "If iron deficiency has a role in causing AI/ACD, a person may need iron supplements to raise hematocrit to a target level. Iron supplements can be taken by pill, subcutaneously, or intravenously during hemodialysis.\n",
      "                \n",
      "People with kidney disease and AI/ACD may also be advised to take vitamin B12 and folic acid supplements. A person should talk with a health care provider before taking any supplements.\n",
      "                \n",
      "More information is provided in the NIDDK health topic, Anemia in Kidney Disease and Dialysis.\n",
      "\n",
      "12028\n",
      "What are the genetic changes related to Smith-Magenis syndrome ?\n",
      "Most people with Smith-Magenis syndrome have a deletion of genetic material from a specific region of chromosome 17. Although this region contains multiple genes, researchers believe that the loss of one particular gene, RAI1, in each cell is responsible for most of the characteristic features of this condition. The loss of other genes in the deleted region may help explain why the features of Smith-Magenis syndrome vary among affected individuals.  A small percentage of people with Smith-Magenis syndrome have a mutation in the RAI1 gene instead of a chromosomal deletion. Although these individuals have many of the major features of the condition, they are less likely than people with a chromosomal deletion to have short stature, hearing loss, and heart or kidney abnormalities.  The RAI1 gene provides instructions for making a protein whose function is unknown. Mutations in one copy of this gene lead to the production of a nonfunctional version of the RAI1 protein or reduce the amount of this protein that is produced in cells. Researchers are uncertain how changes in this protein result in the physical, mental, and behavioral problems associated with Smith-Magenis syndrome.\n",
      "\n",
      "11546\n",
      "What is (are) congenital deafness with labyrinthine aplasia, microtia, and microdontia ?\n",
      "Congenital deafness with labyrinthine aplasia, microtia, and microdontia (also called LAMM syndrome) is a condition that affects development of the ears and teeth. In people with this condition, the structures that form the inner ear are usually completely absent (labyrinthine aplasia). Rarely, affected individuals have some underdeveloped inner ear structures in one or both ears. The abnormalities of the inner ear cause a form of hearing loss called sensorineural deafness that is present from birth (congenital). Because the inner ear is important for balance as well as hearing, development of motor skills, such as sitting and crawling, may be delayed in affected infants. In addition, people with LAMM syndrome often have abnormally small outer ears (microtia) with narrow ear canals. They can also have unusually small, widely spaced teeth (microdontia).\n",
      "\n",
      "6188\n",
      "What are the treatments for Chronic hiccups ?\n",
      "How might chronic hiccups be treated? Treatment for chronic hiccups often varies based on the underlying cause. In many cases, medications can be prescribed to treat chronic hiccups. These may include: Tranquilizers such as chlorpromazine and haloperidol  Muscle relaxants Anticonvulsant agents including phenytoin, valproic acid, and carbamazepine Sedatives Pain medications Stimulants Rarely, medications may not be effective in the treatment of chronic hiccups. In these cases, surgery to temporarily or permanently block the phrenic nerve may be performed. The phrenic nerve controls the diaphragm.\n",
      "\n",
      "1684\n",
      "Do you have information about Nutrition for Seniors\n",
      "Summary : Food provides the energy and nutrients you need to be healthy. Nutrients include proteins, carbohydrates, fats, vitamins, minerals and water.     Studies show that a good diet in your later years reduces your risk of osteoporosis, high blood pressure, heart diseases and certain cancers. As you age, you might need less energy. But you still need just as many of the nutrients in food. To get them       -  Choose a variety of healthy foods    -  Avoid empty calories, which are foods with lots of calories but few nutrients, such as chips, cookies, soda and alcohol    -  Pick foods that are low in cholesterol and fat, especially saturated and trans fats        Saturated fats are usually fats that come from animals. Look for trans fat on the labels of processed foods, margarines and shortenings.    NIH: National Institute on Aging\n",
      "\n",
      "4104\n",
      "What are the symptoms of Mitochondrial Membrane Protein-Associated Neurodegeneration ?\n",
      "What are the signs and symptoms of Mitochondrial Membrane Protein-Associated Neurodegeneration ? The Human Phenotype Ontology provides the following list of signs and symptoms for Mitochondrial Membrane Protein-Associated Neurodegeneration . If the information is available, the table below includes how often the symptom is seen in people with this condition. You can use the MedlinePlus Medical Dictionary to look up the definitions for these medical terms. Signs and Symptoms Approximate number of patients (when available) Abnormal lower motor neuron morphology - Ataxia - Autosomal recessive inheritance - Babinski sign - Delayed speech and language development - Dementia - Distal amyotrophy - Distal muscle weakness - Dysarthria - Elevated serum creatine phosphokinase - Emotional lability - Gait disturbance - Hyperreflexia - Hyporeflexia - Impulsivity - Lewy bodies - Neurodegeneration - Optic atrophy - Oromandibular dystonia - Parkinsonism - Pes cavus - Phenotypic variability - Progressive - Progressive visual loss - Scapular winging - Spasticity - Tremor - The Human Phenotype Ontology (HPO) has collected information on how often a sign or symptom occurs in a condition. Much of this information comes from Orphanet, a European rare disease database. The frequency of a sign or symptom is usually listed as a rough estimate of the percentage of patients who have that feature. The frequency may also be listed as a fraction. The first number of the fraction is how many people had the symptom, and the second number is the total number of people who were examined in one study. For example, a frequency of 25/25 means that in a study of 25 people all patients were found to have that symptom. Because these frequencies are based on a specific study, the fractions may be different if another group of patients are examined. Sometimes, no information on frequency is available. In these cases, the sign or symptom may be rare or common.\n",
      "\n",
      "149\n",
      "How many people are affected by Balance Problems ?\n",
      "In 2008, an estimated 14.8 percent of American adults (33.4 million) had a balance or dizziness problem during the past year. See statistics about the frequency of balance and other sensory impairments in older adults.  (Centers for Disease Control and Prevention)\n",
      "\n",
      "4923\n",
      "What are the symptoms of Hypolipoproteinemia ?\n",
      "Are there other symptoms associated with hypolipoproteinemia? Some reports suggest that hypolipoproteinemia (low cholesterol levels) in general may increase the risk for development of fatty livers.\n",
      "\n",
      "14684\n",
      "Is factor V deficiency inherited ?\n",
      "Factor V deficiency is inherited in an autosomal recessive pattern, which means both copies of the F5 gene in each cell have mutations. Individuals with a mutation in a single copy of the F5 gene have a reduced amount of coagulation factor V in their blood and can have mild bleeding problems, although most have no related health effects.\n",
      "\n",
      "6282\n",
      "What are the symptoms of GRACILE syndrome ?\n",
      "What are the signs and symptoms of GRACILE syndrome? The Human Phenotype Ontology provides the following list of signs and symptoms for GRACILE syndrome. If the information is available, the table below includes how often the symptom is seen in people with this condition. You can use the MedlinePlus Medical Dictionary to look up the definitions for these medical terms. Signs and Symptoms Approximate number of patients (when available) Abnormality of iron homeostasis 90% Abnormality of the renal tubule 90% Aminoaciduria 90% Cirrhosis 90% Hearing impairment 90% Hepatic steatosis 90% Abnormality of hair texture 50% Aminoaciduria 20/20 Cholestasis 19/20 Neonatal hypotonia 3/20 Chronic lactic acidosis - Increased serum ferritin - Increased serum iron - Increased serum pyruvate - Intrauterine growth retardation - The Human Phenotype Ontology (HPO) has collected information on how often a sign or symptom occurs in a condition. Much of this information comes from Orphanet, a European rare disease database. The frequency of a sign or symptom is usually listed as a rough estimate of the percentage of patients who have that feature. The frequency may also be listed as a fraction. The first number of the fraction is how many people had the symptom, and the second number is the total number of people who were examined in one study. For example, a frequency of 25/25 means that in a study of 25 people all patients were found to have that symptom. Because these frequencies are based on a specific study, the fractions may be different if another group of patients are examined. Sometimes, no information on frequency is available. In these cases, the sign or symptom may be rare or common.\n",
      "\n",
      "10807\n",
      "How many people are affected by Loeys-Dietz syndrome ?\n",
      "The prevalence of Loeys-Dietz syndrome is unknown. Loeys-Dietz syndrome types I and II appear to be the most common forms.\n",
      "\n",
      "4750\n",
      "Is Majeed syndrome inherited ?\n",
      "How is Majeed syndrome inherited? Majeed syndrome is inherited in an autosomal recessive pattern, which means both copies of the gene in each cell have mutations. The parents of an individual with an autosomal recessive condition each carry one copy of the mutated gene. Although carriers typically do not show signs and symptoms of the condition, some parents of children with Majeed syndrome have had an inflammatory skin disorder called psoriasis.\n",
      "\n",
      "15438\n",
      "How to prevent What I need to know about Erectile Dysfunction ?\n",
      "You can prevent many of the causes of ED by making healthy lifestyle choices. Following a healthy diet may help prevent ED. Quitting smoking and getting physical activity are also important ways to prevent ED.\n",
      "                \n",
      "Physical activity increases blood flow throughout your body, including your penis. Talk with your doctor before starting new activities. If you have not been active, start slow, with easier activities such as walking at a normal pace or gardening. Then you can work up to harder activities such as walking briskly or swimming. Try to aim for at least 30 minutes of activity most days of the week.\n",
      "\n",
      "1034\n",
      "How to diagnose Gestational Trophoblastic Disease ?\n",
      "Tests that examine the uterus are used to detect (find) and diagnose gestational trophoblastic disease. The following tests and procedures may be used:         -   Physical exam and history : An exam of the body to check general signs of health, including checking for signs of disease, such as lumps or anything else that seems unusual. A history of the patients health habits and past illnesses and treatments will also be taken.     -   Pelvic exam : An exam of the vagina, cervix, uterus, fallopian tubes, ovaries, and rectum. A speculum is inserted into the vagina and the doctor or nurse looks at the vagina and cervix for signs of disease. A Pap test of the cervix is usually done. The doctor or nurse also inserts one or two lubricated, gloved fingers of one hand into the vagina and places the other hand over the lower abdomen to feel the size, shape, and position of the uterus and ovaries. The doctor or nurse also inserts a lubricated, gloved finger into the rectum to feel for lumps or abnormal areas.    -   Ultrasound exam of the pelvis: A procedure in which high-energy sound waves (ultrasound) are bounced off internal tissues or organs in the pelvis and make echoes. The echoes form a picture of body tissues called a sonogram. Sometimes a transvaginal ultrasound (TVUS) will be done. For TVUS, an ultrasound transducer (probe) is inserted into the vagina to make the sonogram.     -   Blood chemistry studies : A procedure in which a blood sample is checked to measure the amounts of certain substances released into the blood by organs and tissues in the body. An unusual (higher or lower than normal) amount of a substance can be a sign of disease. Blood is also tested to check the liver, kidney, and bone marrow.     -   Serum tumor marker test : A procedure in which a sample of blood is checked to measure the amounts of certain substances made by organs, tissues, or tumor cells in the body. Certain substances are linked to specific types of cancer when found in increased levels in the body. These are called tumor markers. For GTD, the blood is checked for the level of beta human chorionic gonadotropin (-hCG), a hormone that is made by the body during pregnancy. -hCG in the blood of a woman who is not pregnant may be a sign of GTD.    -   Urinalysis : A test to check the color of urine and its contents, such as sugar, protein, blood, bacteria, and the level of -hCG.\n",
      "\n",
      "14896\n",
      "What is (are) McCune-Albright syndrome ?\n",
      "McCune-Albright syndrome is a disorder that affects the bones, skin, and several hormone-producing (endocrine) tissues.  People with McCune-Albright syndrome develop areas of abnormal scar-like (fibrous) tissue in their bones, a condition called polyostotic fibrous dysplasia. Polyostotic means the abnormal areas (lesions) may occur in many bones; often they are confined to one side of the body. Replacement of bone with fibrous tissue may lead to fractures, uneven growth, and deformity. When lesions occur in the bones of the skull and jaw it can result in uneven (asymmetric) growth of the face. Asymmetry may also occur in the long bones; uneven growth of leg bones may cause limping. Abnormal curvature of the spine (scoliosis) may also occur. Bone lesions may become cancerous, but this happens in fewer than 1 percent of people with McCune-Albright syndrome.  In addition to bone abnormalities, affected individuals usually have light brown patches of skin called caf-au-lait spots, which may be present from birth. The irregular borders of the caf-au-lait spots in McCune-Albright syndrome are often compared to a map of the coast of Maine. By contrast, caf-au-lait spots in other disorders have smooth borders, which are compared to the coast of California. Like the bone lesions, the caf-au-lait spots in McCune-Albright syndrome often appear on only one side of the body.  Girls with McCune-Albright syndrome usually reach puberty early. These girls usually have menstrual bleeding by age two, many years before secondary sex characteristics such as breast enlargement and pubic hair are evident. This early onset of menstruation is believed to be caused by excess estrogen, a female sex hormone, produced by cysts that develop in one of the ovaries. Less commonly, boys with McCune-Albright syndrome may also experience early puberty.  Other endocrine problems may also occur in people with McCune-Albright syndrome. The thyroid gland, a butterfly-shaped organ at the base of the neck, may become enlarged (a condition called a goiter) or develop masses called nodules. About 50 percent of affected individuals produce excessive amounts of thyroid hormone (hyperthyroidism), resulting in a fast heart rate, high blood pressure, weight loss, tremors, sweating, and other symptoms. The pituitary gland (a structure at the base of the brain that makes several hormones) may produce too much growth hormone. Excess growth hormone can result in acromegaly, a condition characterized by large hands and feet, arthritis, and distinctive facial features that are often described as \"coarse.\" Rarely, affected individuals develop Cushing's syndrome, an excess of the hormone cortisol produced by the adrenal glands, which are small glands located on top of each kidney. Cushing's syndrome causes weight gain in the face and upper body, slowed growth in children, fragile skin, fatigue, and other health problems.\n",
      "\n",
      "14468\n",
      "What are the genetic changes related to Prader-Willi syndrome ?\n",
      "Prader-Willi syndrome is caused by the loss of function of genes in a particular region of chromosome 15. People normally inherit one copy of this chromosome from each parent. Some genes are turned on (active) only on the copy that is inherited from a person's father (the paternal copy). This parent-specific gene activation is caused by a phenomenon called genomic imprinting.  Most cases of Prader-Willi syndrome (about 70 percent) occur when a segment of the paternal chromosome 15 is deleted in each cell. People with this chromosomal change are missing certain critical genes in this region because the genes on the paternal copy have been deleted, and the genes on the maternal copy are turned off (inactive). In another 25 percent of cases, a person with Prader-Willi syndrome has two copies of chromosome 15 inherited from his or her mother (maternal copies) instead of one copy from each parent. This phenomenon is called maternal uniparental disomy. Rarely, Prader-Willi syndrome can also be caused by a chromosomal rearrangement called a translocation, or by a mutation or other defect that abnormally turns off (inactivates) genes on the paternal chromosome 15.  It appears likely that the characteristic features of Prader-Willi syndrome result from the loss of function of several genes on chromosome 15. Among these are genes that provide instructions for making molecules called small nucleolar RNAs (snoRNAs). These molecules have a variety of functions, including helping to regulate other types of RNA molecules. (RNA molecules play essential roles in producing proteins and in other cell activities.) Studies suggest that the loss of a particular group of snoRNA genes, known as the SNORD116 cluster, may play a major role in causing the signs and symptoms of Prader-Willi syndrome. However, it is unknown how a missing SNORD116 cluster could contribute to intellectual disability, behavioral problems, and the physical features of the disorder.  In some people with Prader-Willi syndrome, the loss of a gene called OCA2 is associated with unusually fair skin and light-colored hair. The OCA2 gene is located on the segment of chromosome 15 that is often deleted in people with this disorder. However, loss of the OCA2 gene does not cause the other signs and symptoms of Prader-Willi syndrome. The protein produced from this gene helps determine the coloring (pigmentation) of the skin, hair, and eyes.  Researchers are studying other genes on chromosome 15 that may also be related to the major signs and symptoms of this condition.\n",
      "\n",
      "15508\n",
      "What are the symptoms of Simple Kidney Cysts ?\n",
      "Simple kidney cysts usually do not cause symptoms or harm the kidneys. In some cases, however, pain can occur between the ribs and hips when cysts enlarge and press on other organs. Sometimes cysts become infected, causing fever, pain, and tenderness. Simple kidney cysts are not thought to affect kidney function, but one study found an association between the presence of cysts and reduced kidney function in hospitalized people younger than 60 years of age.1 Some studies have found a relationship between simple kidney cysts and high blood pressure. For example, high blood pressure has improved in some people after a large cyst was drained. However, this relationship is not well understood.2\n",
      "\n",
      "2928\n",
      "What are the symptoms of Bare lymphocyte syndrome 2 ?\n",
      "What are the signs and symptoms of Bare lymphocyte syndrome 2? The Human Phenotype Ontology provides the following list of signs and symptoms for Bare lymphocyte syndrome 2. If the information is available, the table below includes how often the symptom is seen in people with this condition. You can use the MedlinePlus Medical Dictionary to look up the definitions for these medical terms. Signs and Symptoms Approximate number of patients (when available) Agammaglobulinemia - Autosomal dominant inheritance - Autosomal recessive inheritance - Biliary tract abnormality - Chronic lymphocytic meningitis - Chronic mucocutaneous candidiasis - Colitis - Cutaneous anergy - Encephalitis - Failure to thrive - Malabsorption - Neutropenia - Panhypogammaglobulinemia - Protracted diarrhea - Recurrent bacterial infections - Recurrent fungal infections - Recurrent lower respiratory tract infections - Recurrent protozoan infections - Recurrent upper respiratory tract infections - Recurrent urinary tract infections - Recurrent viral infections - Villous atrophy - Viral hepatitis - The Human Phenotype Ontology (HPO) has collected information on how often a sign or symptom occurs in a condition. Much of this information comes from Orphanet, a European rare disease database. The frequency of a sign or symptom is usually listed as a rough estimate of the percentage of patients who have that feature. The frequency may also be listed as a fraction. The first number of the fraction is how many people had the symptom, and the second number is the total number of people who were examined in one study. For example, a frequency of 25/25 means that in a study of 25 people all patients were found to have that symptom. Because these frequencies are based on a specific study, the fractions may be different if another group of patients are examined. Sometimes, no information on frequency is available. In these cases, the sign or symptom may be rare or common.\n",
      "\n",
      "13627\n",
      "How many people are affected by Alexander disease ?\n",
      "The prevalence of Alexander disease is unknown. About 500 cases have been reported since the disorder was first described in 1949.\n",
      "\n",
      "2081\n",
      "Do you have information about Dietary Supplements\n",
      "Summary : Dietary supplements are vitamins, minerals, herbs, and many other products. They can come as pills, capsules, powders, drinks, and energy bars. Supplements do not have to go through the testing that drugs do.    Some supplements can play an important role in health. For example, calcium and vitamin D are important for keeping bones strong. Pregnant women can take the vitamin folic acid to prevent certain birth defects in their babies.    To take a supplement as safely as possible       - Tell your health care provider about any dietary supplements you use    - Do not take a bigger dose than the label recommends    - Check with your health care provider about the supplements you take if you are going to have any type of surgery    - Read trustworthy information about the supplement       NIH: National Institutes of Health Office of Dietary Supplements\n",
      "\n",
      "7719\n",
      "What are the symptoms of Myotonic dystrophy ?\n",
      "What are the signs and symptoms of Myotonic dystrophy? Signs and symptoms of myotonic dystrophy often begin in a person's 20s or 30s, but they can begin at any age. Symptoms often include progressive muscle weakness and wasting (particularly in the legs, hands, neck and face); stiffness and tightness of the muscles; cataracts; and cardiac conduction defects (irregular electrical control of the heartbeat). Some affected men also have hormonal changes that may cause balding or infertility. The severity of symptoms can vary widely among affected people. The signs and symptoms of type 1 and type 2 overlap, but type 2 is generally more mild than type 1. People who are born with the condition have congenital myotonic dystrophy, which is a variation of type 1. Congenital myotonic dystophy causes weakness of all muscles, in addition to breathing problems, developmental delays and intellectual disabilities. The Human Phenotype Ontology provides the following list of signs and symptoms for Myotonic dystrophy. If the information is available, the table below includes how often the symptom is seen in people with this condition. You can use the MedlinePlus Medical Dictionary to look up the definitions for these medical terms. Signs and Symptoms Approximate number of patients (when available) Arrhythmia 90% Cataract 90% EMG abnormality 90% Hypertonia 90% Mask-like facies 90% Myotonia 90% Skeletal muscle atrophy 90% Abnormality of the endocrine system 50% Cognitive impairment 50% Facial palsy 50% Muscular hypotonia 50% Respiratory insufficiency 50% Abnormal hair quantity 7.5% Abnormality of the hip bone 7.5% Abnormality of the upper urinary tract 7.5% Cryptorchidism 7.5% Hernia of the abdominal wall 7.5% Hydrocephalus 7.5% Non-midline cleft lip 7.5% Strabismus 7.5% Atrial flutter 4/11 Autosomal dominant inheritance - Cerebral atrophy - Cholelithiasis - Decreased fetal movement - Diabetes mellitus - Dysphagia - Elevated follicle stimulating hormone - Elevated serum creatine phosphokinase - Excessive daytime sleepiness - Facial diplegia - Feeding difficulties in infancy - First degree atrioventricular block - Frontal balding - Hypogonadism - IgG deficiency - IgM deficiency - Insulin insensitivity - Intellectual disability, progressive - Intellectual disability, severe - Iridescent posterior subcapsular cataract - Myalgia - Neck flexor weakness - Obsessive-compulsive trait - Oligospermia - Palpitations - Polyhydramnios - Proximal muscle weakness - Respiratory distress - Tachycardia - Testicular atrophy - Type 2 muscle fiber atrophy - The Human Phenotype Ontology (HPO) has collected information on how often a sign or symptom occurs in a condition. Much of this information comes from Orphanet, a European rare disease database. The frequency of a sign or symptom is usually listed as a rough estimate of the percentage of patients who have that feature. The frequency may also be listed as a fraction. The first number of the fraction is how many people had the symptom, and the second number is the total number of people who were examined in one study. For example, a frequency of 25/25 means that in a study of 25 people all patients were found to have that symptom. Because these frequencies are based on a specific study, the fractions may be different if another group of patients are examined. Sometimes, no information on frequency is available. In these cases, the sign or symptom may be rare or common.\n",
      "\n"
     ]
    }
   ],
   "source": [
    "# Display questions and answers\n",
    "for index, question, answer in random_samples.itertuples():\n",
    "    print(index)\n",
    "    print(question)\n",
    "    print(answer)\n",
    "    print()"
   ]
  },
  {
   "cell_type": "markdown",
   "metadata": {},
   "source": [
    "### Some findings from this random check\n",
    "\n",
    "- The question appears at the beginning of the answer. This might not be wanted.\n",
    "- I will assume the questions and answers are curated. Meaning, the questions are correct (semantically, grammatically, or at least those questions are from real users) and that the answers are the correct answers expected and were revised or checked appropriately.\n",
    "- Some answers are very short, some are very long. Count the number of characters to see the distribution.  \n",
    "- The formatting for answers varies a lot. Should we formmat them  \n",
    "- Let's filter rows where the question == answer"
   ]
  },
  {
   "cell_type": "code",
   "execution_count": 87,
   "metadata": {},
   "outputs": [],
   "source": [
    "# Let's count in average how many words are there in every answer\n",
    "raw_dataset['num_words_in_answer'] = raw_dataset['answer'].map(lambda answer: len(answer.split()))"
   ]
  },
  {
   "cell_type": "code",
   "execution_count": 88,
   "metadata": {},
   "outputs": [
    {
     "data": {
      "text/html": [
       "<div>\n",
       "<style scoped>\n",
       "    .dataframe tbody tr th:only-of-type {\n",
       "        vertical-align: middle;\n",
       "    }\n",
       "\n",
       "    .dataframe tbody tr th {\n",
       "        vertical-align: top;\n",
       "    }\n",
       "\n",
       "    .dataframe thead th {\n",
       "        text-align: right;\n",
       "    }\n",
       "</style>\n",
       "<table border=\"1\" class=\"dataframe\">\n",
       "  <thead>\n",
       "    <tr style=\"text-align: right;\">\n",
       "      <th></th>\n",
       "      <th>question</th>\n",
       "      <th>answer</th>\n",
       "      <th>num_words_in_answer</th>\n",
       "    </tr>\n",
       "  </thead>\n",
       "  <tbody>\n",
       "    <tr>\n",
       "      <th>0</th>\n",
       "      <td>What is (are) Glaucoma ?</td>\n",
       "      <td>Glaucoma is a group of diseases that can damag...</td>\n",
       "      <td>111</td>\n",
       "    </tr>\n",
       "    <tr>\n",
       "      <th>1</th>\n",
       "      <td>What is (are) Glaucoma ?</td>\n",
       "      <td>The optic nerve is a bundle of more than 1 mil...</td>\n",
       "      <td>20</td>\n",
       "    </tr>\n",
       "    <tr>\n",
       "      <th>2</th>\n",
       "      <td>What is (are) Glaucoma ?</td>\n",
       "      <td>Open-angle glaucoma is the most common form of...</td>\n",
       "      <td>88</td>\n",
       "    </tr>\n",
       "    <tr>\n",
       "      <th>3</th>\n",
       "      <td>Who is at risk for Glaucoma? ?</td>\n",
       "      <td>Anyone can develop glaucoma. Some people are a...</td>\n",
       "      <td>81</td>\n",
       "    </tr>\n",
       "    <tr>\n",
       "      <th>4</th>\n",
       "      <td>How to prevent Glaucoma ?</td>\n",
       "      <td>At this time, we do not know how to prevent gl...</td>\n",
       "      <td>84</td>\n",
       "    </tr>\n",
       "  </tbody>\n",
       "</table>\n",
       "</div>"
      ],
      "text/plain": [
       "                         question  \\\n",
       "0        What is (are) Glaucoma ?   \n",
       "1        What is (are) Glaucoma ?   \n",
       "2        What is (are) Glaucoma ?   \n",
       "3  Who is at risk for Glaucoma? ?   \n",
       "4       How to prevent Glaucoma ?   \n",
       "\n",
       "                                              answer  num_words_in_answer  \n",
       "0  Glaucoma is a group of diseases that can damag...                  111  \n",
       "1  The optic nerve is a bundle of more than 1 mil...                   20  \n",
       "2  Open-angle glaucoma is the most common form of...                   88  \n",
       "3  Anyone can develop glaucoma. Some people are a...                   81  \n",
       "4  At this time, we do not know how to prevent gl...                   84  "
      ]
     },
     "execution_count": 88,
     "metadata": {},
     "output_type": "execute_result"
    }
   ],
   "source": [
    "raw_dataset.head()"
   ]
  },
  {
   "cell_type": "code",
   "execution_count": 89,
   "metadata": {},
   "outputs": [
    {
     "data": {
      "text/html": [
       "<div>\n",
       "<style scoped>\n",
       "    .dataframe tbody tr th:only-of-type {\n",
       "        vertical-align: middle;\n",
       "    }\n",
       "\n",
       "    .dataframe tbody tr th {\n",
       "        vertical-align: top;\n",
       "    }\n",
       "\n",
       "    .dataframe thead th {\n",
       "        text-align: right;\n",
       "    }\n",
       "</style>\n",
       "<table border=\"1\" class=\"dataframe\">\n",
       "  <thead>\n",
       "    <tr style=\"text-align: right;\">\n",
       "      <th></th>\n",
       "      <th>num_words_in_answer</th>\n",
       "    </tr>\n",
       "  </thead>\n",
       "  <tbody>\n",
       "    <tr>\n",
       "      <th>count</th>\n",
       "      <td>16353.000000</td>\n",
       "    </tr>\n",
       "    <tr>\n",
       "      <th>mean</th>\n",
       "      <td>200.293769</td>\n",
       "    </tr>\n",
       "    <tr>\n",
       "      <th>std</th>\n",
       "      <td>246.805755</td>\n",
       "    </tr>\n",
       "    <tr>\n",
       "      <th>min</th>\n",
       "      <td>1.000000</td>\n",
       "    </tr>\n",
       "    <tr>\n",
       "      <th>25%</th>\n",
       "      <td>71.000000</td>\n",
       "    </tr>\n",
       "    <tr>\n",
       "      <th>50%</th>\n",
       "      <td>138.000000</td>\n",
       "    </tr>\n",
       "    <tr>\n",
       "      <th>75%</th>\n",
       "      <td>251.000000</td>\n",
       "    </tr>\n",
       "    <tr>\n",
       "      <th>max</th>\n",
       "      <td>4281.000000</td>\n",
       "    </tr>\n",
       "  </tbody>\n",
       "</table>\n",
       "</div>"
      ],
      "text/plain": [
       "       num_words_in_answer\n",
       "count         16353.000000\n",
       "mean            200.293769\n",
       "std             246.805755\n",
       "min               1.000000\n",
       "25%              71.000000\n",
       "50%             138.000000\n",
       "75%             251.000000\n",
       "max            4281.000000"
      ]
     },
     "execution_count": 89,
     "metadata": {},
     "output_type": "execute_result"
    }
   ],
   "source": [
    "#  check the avg number of words\n",
    "raw_dataset.describe()"
   ]
  },
  {
   "cell_type": "code",
   "execution_count": 121,
   "metadata": {},
   "outputs": [
    {
     "data": {
      "text/html": [
       "<div>\n",
       "<style scoped>\n",
       "    .dataframe tbody tr th:only-of-type {\n",
       "        vertical-align: middle;\n",
       "    }\n",
       "\n",
       "    .dataframe tbody tr th {\n",
       "        vertical-align: top;\n",
       "    }\n",
       "\n",
       "    .dataframe thead th {\n",
       "        text-align: right;\n",
       "    }\n",
       "</style>\n",
       "<table border=\"1\" class=\"dataframe\">\n",
       "  <thead>\n",
       "    <tr style=\"text-align: right;\">\n",
       "      <th></th>\n",
       "      <th>question</th>\n",
       "      <th>answer</th>\n",
       "      <th>num_words_in_answer</th>\n",
       "    </tr>\n",
       "  </thead>\n",
       "  <tbody>\n",
       "    <tr>\n",
       "      <th>1014</th>\n",
       "      <td>What causes Childhood Brain Stem Glioma?</td>\n",
       "      <td>The cause of most childhood brain tumors is un...</td>\n",
       "      <td>9</td>\n",
       "    </tr>\n",
       "    <tr>\n",
       "      <th>1150</th>\n",
       "      <td>Who is at risk for Neuroblastoma??</td>\n",
       "      <td>The risk factors for neuroblastoma are not known.</td>\n",
       "      <td>8</td>\n",
       "    </tr>\n",
       "    <tr>\n",
       "      <th>1317</th>\n",
       "      <td>What causes Childhood Ependymoma?</td>\n",
       "      <td>The cause of most childhood brain tumors is un...</td>\n",
       "      <td>9</td>\n",
       "    </tr>\n",
       "    <tr>\n",
       "      <th>2557</th>\n",
       "      <td>What are the treatments for Bell's palsy?</td>\n",
       "      <td>How might Bell's palsy be treated?</td>\n",
       "      <td>6</td>\n",
       "    </tr>\n",
       "    <tr>\n",
       "      <th>3022</th>\n",
       "      <td>Is Dentatorubral-pallidoluysian atrophy inheri...</td>\n",
       "      <td>How is dentatorubral-pallidoluysian atrophy (D...</td>\n",
       "      <td>6</td>\n",
       "    </tr>\n",
       "    <tr>\n",
       "      <th>3080</th>\n",
       "      <td>Is 48,XXYY syndrome inherited?</td>\n",
       "      <td>Can 48,XXYY syndrome be inherited?</td>\n",
       "      <td>5</td>\n",
       "    </tr>\n",
       "    <tr>\n",
       "      <th>4388</th>\n",
       "      <td>What are the treatments for Epidermolysis bull...</td>\n",
       "      <td>How might epidermolysis bullosa acquisita be t...</td>\n",
       "      <td>7</td>\n",
       "    </tr>\n",
       "    <tr>\n",
       "      <th>4848</th>\n",
       "      <td>What are the treatments for Tubular aggregate ...</td>\n",
       "      <td>How might tubular aggregate myopathy be treated?</td>\n",
       "      <td>7</td>\n",
       "    </tr>\n",
       "    <tr>\n",
       "      <th>5555</th>\n",
       "      <td>What are the treatments for Brown-Sequard synd...</td>\n",
       "      <td>How might Brown-Sequard syndrome be treated?</td>\n",
       "      <td>6</td>\n",
       "    </tr>\n",
       "    <tr>\n",
       "      <th>5782</th>\n",
       "      <td>Is Septo-optic dysplasia inherited?</td>\n",
       "      <td>Is septo-optic dysplasia inherited?</td>\n",
       "      <td>4</td>\n",
       "    </tr>\n",
       "  </tbody>\n",
       "</table>\n",
       "</div>"
      ],
      "text/plain": [
       "                                               question  \\\n",
       "1014           What causes Childhood Brain Stem Glioma?   \n",
       "1150                 Who is at risk for Neuroblastoma??   \n",
       "1317                  What causes Childhood Ependymoma?   \n",
       "2557          What are the treatments for Bell's palsy?   \n",
       "3022  Is Dentatorubral-pallidoluysian atrophy inheri...   \n",
       "3080                     Is 48,XXYY syndrome inherited?   \n",
       "4388  What are the treatments for Epidermolysis bull...   \n",
       "4848  What are the treatments for Tubular aggregate ...   \n",
       "5555  What are the treatments for Brown-Sequard synd...   \n",
       "5782                Is Septo-optic dysplasia inherited?   \n",
       "\n",
       "                                                 answer  num_words_in_answer  \n",
       "1014  The cause of most childhood brain tumors is un...                    9  \n",
       "1150  The risk factors for neuroblastoma are not known.                    8  \n",
       "1317  The cause of most childhood brain tumors is un...                    9  \n",
       "2557                 How might Bell's palsy be treated?                    6  \n",
       "3022  How is dentatorubral-pallidoluysian atrophy (D...                    6  \n",
       "3080                 Can 48,XXYY syndrome be inherited?                    5  \n",
       "4388  How might epidermolysis bullosa acquisita be t...                    7  \n",
       "4848   How might tubular aggregate myopathy be treated?                    7  \n",
       "5555       How might Brown-Sequard syndrome be treated?                    6  \n",
       "5782                Is septo-optic dysplasia inherited?                    4  "
      ]
     },
     "execution_count": 121,
     "metadata": {},
     "output_type": "execute_result"
    }
   ],
   "source": [
    "raw_dataset[raw_dataset['num_words_in_answer']<10].head(10)"
   ]
  },
  {
   "cell_type": "code",
   "execution_count": 111,
   "metadata": {},
   "outputs": [
    {
     "data": {
      "text/plain": [
       "['What', 'are', 'the', 'symptoms', 'of', \"Bell's\", 'palsy', '?']"
      ]
     },
     "execution_count": 111,
     "metadata": {},
     "output_type": "execute_result"
    }
   ],
   "source": [
    "raw_dataset.iloc[2555]['question']raw_dataset.iloc[2555]['question'].split()"
   ]
  },
  {
   "cell_type": "code",
   "execution_count": 112,
   "metadata": {},
   "outputs": [
    {
     "data": {
      "text/plain": [
       "['What', 'are', 'the', 'symptoms', 'of', \"Bell's\", 'palsy?']"
      ]
     },
     "execution_count": 112,
     "metadata": {},
     "output_type": "execute_result"
    }
   ],
   "source": [
    "raw_dataset.iloc[2555]['answer'].split()"
   ]
  },
  {
   "cell_type": "code",
   "execution_count": 91,
   "metadata": {},
   "outputs": [
    {
     "data": {
      "text/plain": [
       "<Axes: >"
      ]
     },
     "execution_count": 91,
     "metadata": {},
     "output_type": "execute_result"
    },
    {
     "data": {
      "image/png": "[encoded data removed]",
      "text/plain": [
       "<Figure size 640x480 with 1 Axes>"
      ]
     },
     "metadata": {},
     "output_type": "display_data"
    }
   ],
   "source": [
    "# histogram for num_words_in_answer\n",
    "raw_dataset['num_words_in_answer'].hist(bins=100)"
   ]
  },
  {
   "cell_type": "code",
   "execution_count": 94,
   "metadata": {},
   "outputs": [
    {
     "data": {
      "text/plain": [
       "True"
      ]
     },
     "execution_count": 94,
     "metadata": {},
     "output_type": "execute_result"
    }
   ],
   "source": [
    "'\\n' in raw_dataset.iloc[15764]['answer']"
   ]
  },
  {
   "cell_type": "code",
   "execution_count": null,
   "metadata": {},
   "outputs": [],
   "source": []
  }
 ],
 "metadata": {
  "kernelspec": {
   "display_name": "Python 3",
   "language": "python",
   "name": "python3"
  },
  "language_info": {
   "codemirror_mode": {
    "name": "ipython",
    "version": 3
   },
   "file_extension": ".py",
   "mimetype": "text/x-python",
   "name": "python",
   "nbconvert_exporter": "python",
   "pygments_lexer": "ipython3",
   "version": "3.10.15"
  }
 },
 "nbformat": 4,
 "nbformat_minor": 2
}
